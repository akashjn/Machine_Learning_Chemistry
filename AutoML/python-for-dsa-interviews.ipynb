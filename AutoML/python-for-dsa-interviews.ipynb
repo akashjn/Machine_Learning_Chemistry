{
 "cells": [
  {
   "cell_type": "markdown",
   "id": "d91a2e9c",
   "metadata": {
    "papermill": {
     "duration": 0.026172,
     "end_time": "2022-08-21T13:07:39.125345",
     "exception": false,
     "start_time": "2022-08-21T13:07:39.099173",
     "status": "completed"
    },
    "tags": []
   },
   "source": [
    "## Python for Data Structures and Algorithms Interview.\n",
    "\n",
    "\n",
    "\n",
    "\n",
    "\n",
    "Hi All ✌️, continuing to write articles on Kaggle after a very long time.\n",
    "\n",
    "In my previous kernels, I summarized basic [Pandas](https://www.kaggle.com/code/rajmehra03/a-complete-pandas-tutorial), [Numpy](https://www.kaggle.com/code/rajmehra03/a-complete-guide-to-numpy/) operations.\n",
    "\n",
    "In this one, I cover another interesting and important concept which is **Python for DSA Interviews**. More and more companies are asking for Python coding exercises and in such scenario it is crucial to have good command over data structures and algorithms in Python language.\n",
    "\n",
    "**We will cover all basic data structures and see how to implement them in Python. Also, I shall try to include a sample program for each to show how to manipulate that data strcuture.**\n",
    "\n",
    "As usual, hope you find it useful, and if you do, make sure to drop a 👍.\n",
    "\n",
    "#### Let's get started!"
   ]
  },
  {
   "cell_type": "code",
   "execution_count": null,
   "id": "a07f2998",
   "metadata": {
    "papermill": {
     "duration": 0.023511,
     "end_time": "2022-08-21T13:07:39.172675",
     "exception": false,
     "start_time": "2022-08-21T13:07:39.149164",
     "status": "completed"
    },
    "tags": []
   },
   "outputs": [],
   "source": []
  },
  {
   "cell_type": "markdown",
   "id": "425b9bd3",
   "metadata": {
    "papermill": {
     "duration": 0.022949,
     "end_time": "2022-08-21T13:07:39.219317",
     "exception": false,
     "start_time": "2022-08-21T13:07:39.196368",
     "status": "completed"
    },
    "tags": []
   },
   "source": [
    "## Table of Contents(ToC):\n",
    "\n",
    "\n",
    "#### 1. [Array](#content1)\n",
    " \n",
    "#### 2. [Strings](#content2)\n",
    "\n",
    "#### 3. [Stack](#content3)\n",
    "\n",
    "#### 4. [Queue](#content4)\n",
    "\n",
    "#### 5. [Linked List](#content5)\n",
    "\n",
    "#### 6. [Tree (Binary Tree, n-ary tree etc...)](#content6)\n",
    "\n",
    "#### 7. [Binary Search Tree(BST)](#content7)\n",
    "\n",
    "#### 8. [Heap](#content8)\n",
    "\n",
    "#### 9. [Graphs](#content9)\n",
    "\n",
    "#### 10. [Sets](#content10)\n",
    "\n",
    "#### 11. [Hashmaps](#content11)"
   ]
  },
  {
   "cell_type": "code",
   "execution_count": null,
   "id": "a7b8a4fe",
   "metadata": {
    "papermill": {
     "duration": 0.023157,
     "end_time": "2022-08-21T13:07:39.265988",
     "exception": false,
     "start_time": "2022-08-21T13:07:39.242831",
     "status": "completed"
    },
    "tags": []
   },
   "outputs": [],
   "source": []
  },
  {
   "cell_type": "markdown",
   "id": "667519e6",
   "metadata": {
    "papermill": {
     "duration": 0.023069,
     "end_time": "2022-08-21T13:07:39.312548",
     "exception": false,
     "start_time": "2022-08-21T13:07:39.289479",
     "status": "completed"
    },
    "tags": []
   },
   "source": [
    "#### Importing Modules."
   ]
  },
  {
   "cell_type": "code",
   "execution_count": 1,
   "id": "958632c7",
   "metadata": {
    "_cell_guid": "b1076dfc-b9ad-4769-8c92-a6c4dae69d19",
    "_uuid": "8f2839f25d086af736a60e9eeb907d3b93b6e0e5",
    "execution": {
     "iopub.execute_input": "2022-08-21T13:07:39.362091Z",
     "iopub.status.busy": "2022-08-21T13:07:39.361375Z",
     "iopub.status.idle": "2022-08-21T13:07:39.377795Z",
     "shell.execute_reply": "2022-08-21T13:07:39.376840Z"
    },
    "papermill": {
     "duration": 0.04417,
     "end_time": "2022-08-21T13:07:39.380157",
     "exception": false,
     "start_time": "2022-08-21T13:07:39.335987",
     "status": "completed"
    },
    "tags": []
   },
   "outputs": [],
   "source": [
    "# This Python 3 environment comes with many helpful analytics libraries installed\n",
    "# It is defined by the kaggle/python Docker image: https://github.com/kaggle/docker-python\n",
    "# For example, here's several helpful packages to load\n",
    "\n",
    "import numpy as np # linear algebra\n",
    "import pandas as pd # data processing, CSV file I/O (e.g. pd.read_csv)\n",
    "import sys\n",
    "\n",
    "# Input data files are available in the read-only \"../input/\" directory\n",
    "# For example, running this (by clicking run or pressing Shift+Enter) will list all files under the input directory\n",
    "\n",
    "import os\n",
    "# for dirname, _, filenames in os.walk('/kaggle/input'):\n",
    "#     for filename in filenames:\n",
    "#         print(os.path.join(dirname, filename))\n",
    "\n",
    "# You can write up to 20GB to the current directory (/kaggle/working/) that gets preserved as output when you create a version using \"Save & Run All\" \n",
    "# You can also write temporary files to /kaggle/temp/, but they won't be saved outside of the current session"
   ]
  },
  {
   "cell_type": "code",
   "execution_count": null,
   "id": "59e9c450",
   "metadata": {
    "papermill": {
     "duration": 0.023478,
     "end_time": "2022-08-21T13:07:39.427890",
     "exception": false,
     "start_time": "2022-08-21T13:07:39.404412",
     "status": "completed"
    },
    "tags": []
   },
   "outputs": [],
   "source": []
  },
  {
   "cell_type": "markdown",
   "id": "01603713",
   "metadata": {
    "papermill": {
     "duration": 0.023364,
     "end_time": "2022-08-21T13:07:39.475146",
     "exception": false,
     "start_time": "2022-08-21T13:07:39.451782",
     "status": "completed"
    },
    "tags": []
   },
   "source": [
    "<a id=\"content1\"></a>\n",
    "## 1. Array"
   ]
  },
  {
   "cell_type": "markdown",
   "id": "0b320735",
   "metadata": {
    "papermill": {
     "duration": 0.023304,
     "end_time": "2022-08-21T13:07:39.522129",
     "exception": false,
     "start_time": "2022-08-21T13:07:39.498825",
     "status": "completed"
    },
    "tags": []
   },
   "source": [
    "To implement an array, we can use a simple list only."
   ]
  },
  {
   "cell_type": "code",
   "execution_count": 2,
   "id": "e54dc01a",
   "metadata": {
    "execution": {
     "iopub.execute_input": "2022-08-21T13:07:39.572608Z",
     "iopub.status.busy": "2022-08-21T13:07:39.571163Z",
     "iopub.status.idle": "2022-08-21T13:07:39.576692Z",
     "shell.execute_reply": "2022-08-21T13:07:39.575865Z"
    },
    "papermill": {
     "duration": 0.033026,
     "end_time": "2022-08-21T13:07:39.578868",
     "exception": false,
     "start_time": "2022-08-21T13:07:39.545842",
     "status": "completed"
    },
    "tags": []
   },
   "outputs": [],
   "source": [
    "arr=[5,7,4,2,3,8,11,6]"
   ]
  },
  {
   "cell_type": "code",
   "execution_count": 3,
   "id": "6f5a9410",
   "metadata": {
    "execution": {
     "iopub.execute_input": "2022-08-21T13:07:39.628219Z",
     "iopub.status.busy": "2022-08-21T13:07:39.627118Z",
     "iopub.status.idle": "2022-08-21T13:07:39.635784Z",
     "shell.execute_reply": "2022-08-21T13:07:39.634932Z"
    },
    "papermill": {
     "duration": 0.035943,
     "end_time": "2022-08-21T13:07:39.638211",
     "exception": false,
     "start_time": "2022-08-21T13:07:39.602268",
     "status": "completed"
    },
    "tags": []
   },
   "outputs": [
    {
     "data": {
      "text/plain": [
       "[5, 7, 4, 2, 3, 8, 11, 6, 9]"
      ]
     },
     "execution_count": 3,
     "metadata": {},
     "output_type": "execute_result"
    }
   ],
   "source": [
    "# Insert an element\n",
    "arr.append(9)\n",
    "arr"
   ]
  },
  {
   "cell_type": "code",
   "execution_count": 4,
   "id": "915ad988",
   "metadata": {
    "execution": {
     "iopub.execute_input": "2022-08-21T13:07:39.690054Z",
     "iopub.status.busy": "2022-08-21T13:07:39.689144Z",
     "iopub.status.idle": "2022-08-21T13:07:39.695994Z",
     "shell.execute_reply": "2022-08-21T13:07:39.695027Z"
    },
    "papermill": {
     "duration": 0.035025,
     "end_time": "2022-08-21T13:07:39.698260",
     "exception": false,
     "start_time": "2022-08-21T13:07:39.663235",
     "status": "completed"
    },
    "tags": []
   },
   "outputs": [
    {
     "data": {
      "text/plain": [
       "[5, 7, 4, 2, 3, 11, 6, 9]"
      ]
     },
     "execution_count": 4,
     "metadata": {},
     "output_type": "execute_result"
    }
   ],
   "source": [
    "# Delete a particular element\n",
    "key=8\n",
    "arr.remove(key)\n",
    "arr"
   ]
  },
  {
   "cell_type": "code",
   "execution_count": 5,
   "id": "5489baec",
   "metadata": {
    "execution": {
     "iopub.execute_input": "2022-08-21T13:07:39.749087Z",
     "iopub.status.busy": "2022-08-21T13:07:39.748296Z",
     "iopub.status.idle": "2022-08-21T13:07:39.757120Z",
     "shell.execute_reply": "2022-08-21T13:07:39.755488Z"
    },
    "papermill": {
     "duration": 0.03708,
     "end_time": "2022-08-21T13:07:39.759491",
     "exception": false,
     "start_time": "2022-08-21T13:07:39.722411",
     "status": "completed"
    },
    "tags": []
   },
   "outputs": [
    {
     "name": "stdout",
     "output_type": "stream",
     "text": [
      "11\n"
     ]
    },
    {
     "data": {
      "text/plain": [
       "[5, 7, 4, 2, 3, 6, 9]"
      ]
     },
     "execution_count": 5,
     "metadata": {},
     "output_type": "execute_result"
    }
   ],
   "source": [
    "# Delete an element at a particular index\n",
    "index=5\n",
    "deleted=arr.pop(index)\n",
    "print(deleted)\n",
    "arr"
   ]
  },
  {
   "cell_type": "code",
   "execution_count": 6,
   "id": "734deb63",
   "metadata": {
    "execution": {
     "iopub.execute_input": "2022-08-21T13:07:39.810090Z",
     "iopub.status.busy": "2022-08-21T13:07:39.809130Z",
     "iopub.status.idle": "2022-08-21T13:07:39.815535Z",
     "shell.execute_reply": "2022-08-21T13:07:39.814324Z"
    },
    "papermill": {
     "duration": 0.035031,
     "end_time": "2022-08-21T13:07:39.818509",
     "exception": false,
     "start_time": "2022-08-21T13:07:39.783478",
     "status": "completed"
    },
    "tags": []
   },
   "outputs": [
    {
     "name": "stdout",
     "output_type": "stream",
     "text": [
      "True\n",
      "False\n"
     ]
    }
   ],
   "source": [
    "# Search an element in array. Simple.\n",
    "x=5\n",
    "print(x in arr)\n",
    "x=12\n",
    "print(x in arr)"
   ]
  },
  {
   "cell_type": "code",
   "execution_count": 7,
   "id": "7a6a3a20",
   "metadata": {
    "execution": {
     "iopub.execute_input": "2022-08-21T13:07:39.869336Z",
     "iopub.status.busy": "2022-08-21T13:07:39.868900Z",
     "iopub.status.idle": "2022-08-21T13:07:39.875956Z",
     "shell.execute_reply": "2022-08-21T13:07:39.875137Z"
    },
    "papermill": {
     "duration": 0.035116,
     "end_time": "2022-08-21T13:07:39.878011",
     "exception": false,
     "start_time": "2022-08-21T13:07:39.842895",
     "status": "completed"
    },
    "tags": []
   },
   "outputs": [
    {
     "data": {
      "text/plain": [
       "[2, 3, 4, 5, 6, 7, 9]"
      ]
     },
     "execution_count": 7,
     "metadata": {},
     "output_type": "execute_result"
    }
   ],
   "source": [
    "# Sort an array\n",
    "arr=sorted(arr)\n",
    "arr"
   ]
  },
  {
   "cell_type": "code",
   "execution_count": 8,
   "id": "5a09300c",
   "metadata": {
    "execution": {
     "iopub.execute_input": "2022-08-21T13:07:39.928680Z",
     "iopub.status.busy": "2022-08-21T13:07:39.928207Z",
     "iopub.status.idle": "2022-08-21T13:07:39.935249Z",
     "shell.execute_reply": "2022-08-21T13:07:39.934323Z"
    },
    "papermill": {
     "duration": 0.035454,
     "end_time": "2022-08-21T13:07:39.937722",
     "exception": false,
     "start_time": "2022-08-21T13:07:39.902268",
     "status": "completed"
    },
    "tags": []
   },
   "outputs": [
    {
     "data": {
      "text/plain": [
       "[9, 7, 6, 5, 4, 3, 2]"
      ]
     },
     "execution_count": 8,
     "metadata": {},
     "output_type": "execute_result"
    }
   ],
   "source": [
    "# Reverse sorting\n",
    "arr=sorted(arr,reverse=True)\n",
    "arr"
   ]
  },
  {
   "cell_type": "code",
   "execution_count": 9,
   "id": "5643cd61",
   "metadata": {
    "execution": {
     "iopub.execute_input": "2022-08-21T13:07:39.989886Z",
     "iopub.status.busy": "2022-08-21T13:07:39.989266Z",
     "iopub.status.idle": "2022-08-21T13:07:39.997260Z",
     "shell.execute_reply": "2022-08-21T13:07:39.996397Z"
    },
    "papermill": {
     "duration": 0.037041,
     "end_time": "2022-08-21T13:07:39.999727",
     "exception": false,
     "start_time": "2022-08-21T13:07:39.962686",
     "status": "completed"
    },
    "tags": []
   },
   "outputs": [
    {
     "data": {
      "text/plain": [
       "[2, 3, 4, 5, 6, 7, 9]"
      ]
     },
     "execution_count": 9,
     "metadata": {},
     "output_type": "execute_result"
    }
   ],
   "source": [
    "# Reverse a list\n",
    "arr=arr[::-1]\n",
    "arr"
   ]
  },
  {
   "cell_type": "code",
   "execution_count": null,
   "id": "3cd275de",
   "metadata": {
    "papermill": {
     "duration": 0.024293,
     "end_time": "2022-08-21T13:07:40.049083",
     "exception": false,
     "start_time": "2022-08-21T13:07:40.024790",
     "status": "completed"
    },
    "tags": []
   },
   "outputs": [],
   "source": []
  },
  {
   "cell_type": "markdown",
   "id": "2672c9db",
   "metadata": {
    "papermill": {
     "duration": 0.024137,
     "end_time": "2022-08-21T13:07:40.098193",
     "exception": false,
     "start_time": "2022-08-21T13:07:40.074056",
     "status": "completed"
    },
    "tags": []
   },
   "source": [
    "<a id=\"content2\"></a>\n",
    "## 2. Strings"
   ]
  },
  {
   "cell_type": "code",
   "execution_count": 10,
   "id": "4027c3a7",
   "metadata": {
    "execution": {
     "iopub.execute_input": "2022-08-21T13:07:40.149061Z",
     "iopub.status.busy": "2022-08-21T13:07:40.148533Z",
     "iopub.status.idle": "2022-08-21T13:07:40.154448Z",
     "shell.execute_reply": "2022-08-21T13:07:40.153191Z"
    },
    "papermill": {
     "duration": 0.034753,
     "end_time": "2022-08-21T13:07:40.157409",
     "exception": false,
     "start_time": "2022-08-21T13:07:40.122656",
     "status": "completed"
    },
    "tags": []
   },
   "outputs": [
    {
     "name": "stdout",
     "output_type": "stream",
     "text": [
      "<class 'str'>\n"
     ]
    }
   ],
   "source": [
    "# Type of any variable\n",
    "s=\"hi I am a string\"\n",
    "print(type(s))"
   ]
  },
  {
   "cell_type": "code",
   "execution_count": 11,
   "id": "804fecd8",
   "metadata": {
    "execution": {
     "iopub.execute_input": "2022-08-21T13:07:40.221086Z",
     "iopub.status.busy": "2022-08-21T13:07:40.220448Z",
     "iopub.status.idle": "2022-08-21T13:07:40.229845Z",
     "shell.execute_reply": "2022-08-21T13:07:40.228461Z"
    },
    "papermill": {
     "duration": 0.046008,
     "end_time": "2022-08-21T13:07:40.233173",
     "exception": false,
     "start_time": "2022-08-21T13:07:40.187165",
     "status": "completed"
    },
    "tags": []
   },
   "outputs": [
    {
     "data": {
      "text/plain": [
       "'hi I a'"
      ]
     },
     "execution_count": 11,
     "metadata": {},
     "output_type": "execute_result"
    }
   ],
   "source": [
    "# Slicing (Substring)\n",
    "s[0:6]  # last index exclusive"
   ]
  },
  {
   "cell_type": "code",
   "execution_count": 12,
   "id": "1295a6ba",
   "metadata": {
    "execution": {
     "iopub.execute_input": "2022-08-21T13:07:40.295552Z",
     "iopub.status.busy": "2022-08-21T13:07:40.295070Z",
     "iopub.status.idle": "2022-08-21T13:07:40.302613Z",
     "shell.execute_reply": "2022-08-21T13:07:40.301302Z"
    },
    "papermill": {
     "duration": 0.044947,
     "end_time": "2022-08-21T13:07:40.305121",
     "exception": false,
     "start_time": "2022-08-21T13:07:40.260174",
     "status": "completed"
    },
    "tags": []
   },
   "outputs": [
    {
     "data": {
      "text/plain": [
       "'Hi this is a sample string...'"
      ]
     },
     "execution_count": 12,
     "metadata": {},
     "output_type": "execute_result"
    }
   ],
   "source": [
    "# Adding one string to another\n",
    "s1=\"Hi this is a sample \"\n",
    "s2=\"string...\"\n",
    "s1+s2"
   ]
  },
  {
   "cell_type": "code",
   "execution_count": 13,
   "id": "9d93a888",
   "metadata": {
    "execution": {
     "iopub.execute_input": "2022-08-21T13:07:40.361421Z",
     "iopub.status.busy": "2022-08-21T13:07:40.360888Z",
     "iopub.status.idle": "2022-08-21T13:07:40.368208Z",
     "shell.execute_reply": "2022-08-21T13:07:40.367412Z"
    },
    "papermill": {
     "duration": 0.037638,
     "end_time": "2022-08-21T13:07:40.370391",
     "exception": false,
     "start_time": "2022-08-21T13:07:40.332753",
     "status": "completed"
    },
    "tags": []
   },
   "outputs": [
    {
     "data": {
      "text/plain": [
       "'hi I am a str'"
      ]
     },
     "execution_count": 13,
     "metadata": {},
     "output_type": "execute_result"
    }
   ],
   "source": [
    "# Deleting some last chars.\n",
    "s=s[:-3]\n",
    "s"
   ]
  },
  {
   "cell_type": "code",
   "execution_count": 14,
   "id": "a377a395",
   "metadata": {
    "execution": {
     "iopub.execute_input": "2022-08-21T13:07:40.423954Z",
     "iopub.status.busy": "2022-08-21T13:07:40.422932Z",
     "iopub.status.idle": "2022-08-21T13:07:40.430014Z",
     "shell.execute_reply": "2022-08-21T13:07:40.429065Z"
    },
    "papermill": {
     "duration": 0.036198,
     "end_time": "2022-08-21T13:07:40.432028",
     "exception": false,
     "start_time": "2022-08-21T13:07:40.395830",
     "status": "completed"
    },
    "tags": []
   },
   "outputs": [
    {
     "data": {
      "text/plain": [
       "'hello I am a str'"
      ]
     },
     "execution_count": 14,
     "metadata": {},
     "output_type": "execute_result"
    }
   ],
   "source": [
    "# Change a char at a particular index. \n",
    "\n",
    "# This will throw error.\n",
    "# s[0]='g'\n",
    "\n",
    "#Instead create a new string like this\n",
    "sample='hello '+s[3:]\n",
    "sample"
   ]
  },
  {
   "cell_type": "markdown",
   "id": "99efa240",
   "metadata": {
    "papermill": {
     "duration": 0.024477,
     "end_time": "2022-08-21T13:07:40.481146",
     "exception": false,
     "start_time": "2022-08-21T13:07:40.456669",
     "status": "completed"
    },
    "tags": []
   },
   "source": [
    "Note that strings in python are **immutable** Thats why an assignment to chane first character throws an error. [Here's](https://stackoverflow.com/questions/9097994/arent-python-strings-immutable-then-why-does-a-b-work) a nice SO discussion on this topic.\n"
   ]
  },
  {
   "cell_type": "code",
   "execution_count": 15,
   "id": "f0fa8ec3",
   "metadata": {
    "execution": {
     "iopub.execute_input": "2022-08-21T13:07:40.533630Z",
     "iopub.status.busy": "2022-08-21T13:07:40.532442Z",
     "iopub.status.idle": "2022-08-21T13:07:40.540245Z",
     "shell.execute_reply": "2022-08-21T13:07:40.539300Z"
    },
    "papermill": {
     "duration": 0.036542,
     "end_time": "2022-08-21T13:07:40.542498",
     "exception": false,
     "start_time": "2022-08-21T13:07:40.505956",
     "status": "completed"
    },
    "tags": []
   },
   "outputs": [
    {
     "data": {
      "text/plain": [
       "'olleh...olleh'"
      ]
     },
     "execution_count": 15,
     "metadata": {},
     "output_type": "execute_result"
    }
   ],
   "source": [
    "# Reverse a string\n",
    "string=\"hello...hello\"\n",
    "string[::-1]  # Python it is. :)"
   ]
  },
  {
   "cell_type": "markdown",
   "id": "39d6e572",
   "metadata": {
    "papermill": {
     "duration": 0.024383,
     "end_time": "2022-08-21T13:07:40.592296",
     "exception": false,
     "start_time": "2022-08-21T13:07:40.567913",
     "status": "completed"
    },
    "tags": []
   },
   "source": [
    "#### Check if a string is palindrome or not!"
   ]
  },
  {
   "cell_type": "code",
   "execution_count": 16,
   "id": "25059d72",
   "metadata": {
    "execution": {
     "iopub.execute_input": "2022-08-21T13:07:40.644611Z",
     "iopub.status.busy": "2022-08-21T13:07:40.643721Z",
     "iopub.status.idle": "2022-08-21T13:07:40.651177Z",
     "shell.execute_reply": "2022-08-21T13:07:40.650256Z"
    },
    "papermill": {
     "duration": 0.03604,
     "end_time": "2022-08-21T13:07:40.653279",
     "exception": false,
     "start_time": "2022-08-21T13:07:40.617239",
     "status": "completed"
    },
    "tags": []
   },
   "outputs": [
    {
     "data": {
      "text/plain": [
       "True"
      ]
     },
     "execution_count": 16,
     "metadata": {},
     "output_type": "execute_result"
    }
   ],
   "source": [
    "string==string[::-1]  #false\n",
    "palin=\"ababa\"\n",
    "palin==palin[::-1] # true"
   ]
  },
  {
   "cell_type": "code",
   "execution_count": null,
   "id": "9a92bc7a",
   "metadata": {
    "papermill": {
     "duration": 0.024677,
     "end_time": "2022-08-21T13:07:40.703100",
     "exception": false,
     "start_time": "2022-08-21T13:07:40.678423",
     "status": "completed"
    },
    "tags": []
   },
   "outputs": [],
   "source": []
  },
  {
   "cell_type": "markdown",
   "id": "14047117",
   "metadata": {
    "papermill": {
     "duration": 0.026363,
     "end_time": "2022-08-21T13:07:40.754608",
     "exception": false,
     "start_time": "2022-08-21T13:07:40.728245",
     "status": "completed"
    },
    "tags": []
   },
   "source": [
    "<a id=\"content3\"></a>\n",
    "## 3. Stack\n",
    "\n",
    "Let's see some basic stack operations now."
   ]
  },
  {
   "cell_type": "markdown",
   "id": "9c6ed8a8",
   "metadata": {
    "papermill": {
     "duration": 0.024658,
     "end_time": "2022-08-21T13:07:40.804683",
     "exception": false,
     "start_time": "2022-08-21T13:07:40.780025",
     "status": "completed"
    },
    "tags": []
   },
   "source": [
    "#### There are multiple ways to implement a stack in python, eg. using collections module etc. Here we see the most simple one using a list. So we will implement a stack in Python using a list."
   ]
  },
  {
   "cell_type": "code",
   "execution_count": 17,
   "id": "cc8ae8ce",
   "metadata": {
    "execution": {
     "iopub.execute_input": "2022-08-21T13:07:40.856688Z",
     "iopub.status.busy": "2022-08-21T13:07:40.856188Z",
     "iopub.status.idle": "2022-08-21T13:07:40.860545Z",
     "shell.execute_reply": "2022-08-21T13:07:40.859677Z"
    },
    "papermill": {
     "duration": 0.033083,
     "end_time": "2022-08-21T13:07:40.862576",
     "exception": false,
     "start_time": "2022-08-21T13:07:40.829493",
     "status": "completed"
    },
    "tags": []
   },
   "outputs": [],
   "source": [
    "# Create stack\n",
    "stack=[]"
   ]
  },
  {
   "cell_type": "code",
   "execution_count": 18,
   "id": "373aa72f",
   "metadata": {
    "execution": {
     "iopub.execute_input": "2022-08-21T13:07:40.914716Z",
     "iopub.status.busy": "2022-08-21T13:07:40.914220Z",
     "iopub.status.idle": "2022-08-21T13:07:40.920824Z",
     "shell.execute_reply": "2022-08-21T13:07:40.919878Z"
    },
    "papermill": {
     "duration": 0.035402,
     "end_time": "2022-08-21T13:07:40.923005",
     "exception": false,
     "start_time": "2022-08-21T13:07:40.887603",
     "status": "completed"
    },
    "tags": []
   },
   "outputs": [
    {
     "data": {
      "text/plain": [
       "[0, 1, 2, 3, 4, 5, 6, 7, 8, 9]"
      ]
     },
     "execution_count": 18,
     "metadata": {},
     "output_type": "execute_result"
    }
   ],
   "source": [
    "# Push an element to stack.\n",
    "for i in range(10):\n",
    "    stack.append(i)\n",
    "    \n",
    "stack # Rightmost being the top of stack."
   ]
  },
  {
   "cell_type": "code",
   "execution_count": 19,
   "id": "eab5bc26",
   "metadata": {
    "execution": {
     "iopub.execute_input": "2022-08-21T13:07:40.975671Z",
     "iopub.status.busy": "2022-08-21T13:07:40.975153Z",
     "iopub.status.idle": "2022-08-21T13:07:40.982481Z",
     "shell.execute_reply": "2022-08-21T13:07:40.981635Z"
    },
    "papermill": {
     "duration": 0.037548,
     "end_time": "2022-08-21T13:07:40.985694",
     "exception": false,
     "start_time": "2022-08-21T13:07:40.948146",
     "status": "completed"
    },
    "tags": []
   },
   "outputs": [
    {
     "name": "stdout",
     "output_type": "stream",
     "text": [
      "9\n"
     ]
    },
    {
     "data": {
      "text/plain": [
       "[0, 1, 2, 3, 4, 5, 6, 7, 8]"
      ]
     },
     "execution_count": 19,
     "metadata": {},
     "output_type": "execute_result"
    }
   ],
   "source": [
    "# Pop an element\n",
    "if len(stack)!=0:\n",
    "    popped=stack.pop()\n",
    "    print(popped)\n",
    "else:\n",
    "    print(\"Stack is empty!\")\n",
    "    \n",
    "stack"
   ]
  },
  {
   "cell_type": "code",
   "execution_count": 20,
   "id": "80ecc6ce",
   "metadata": {
    "execution": {
     "iopub.execute_input": "2022-08-21T13:07:41.039472Z",
     "iopub.status.busy": "2022-08-21T13:07:41.038562Z",
     "iopub.status.idle": "2022-08-21T13:07:41.046390Z",
     "shell.execute_reply": "2022-08-21T13:07:41.045212Z"
    },
    "papermill": {
     "duration": 0.037368,
     "end_time": "2022-08-21T13:07:41.048803",
     "exception": false,
     "start_time": "2022-08-21T13:07:41.011435",
     "status": "completed"
    },
    "tags": []
   },
   "outputs": [
    {
     "data": {
      "text/plain": [
       "8"
      ]
     },
     "execution_count": 20,
     "metadata": {},
     "output_type": "execute_result"
    }
   ],
   "source": [
    "# Seeing top stack\n",
    "stack[-1]"
   ]
  },
  {
   "cell_type": "code",
   "execution_count": 21,
   "id": "5c43d3a9",
   "metadata": {
    "execution": {
     "iopub.execute_input": "2022-08-21T13:07:41.101976Z",
     "iopub.status.busy": "2022-08-21T13:07:41.101494Z",
     "iopub.status.idle": "2022-08-21T13:07:41.108518Z",
     "shell.execute_reply": "2022-08-21T13:07:41.107388Z"
    },
    "papermill": {
     "duration": 0.036696,
     "end_time": "2022-08-21T13:07:41.111005",
     "exception": false,
     "start_time": "2022-08-21T13:07:41.074309",
     "status": "completed"
    },
    "tags": []
   },
   "outputs": [
    {
     "data": {
      "text/plain": [
       "False"
      ]
     },
     "execution_count": 21,
     "metadata": {},
     "output_type": "execute_result"
    }
   ],
   "source": [
    "# Checking if stack is empty\n",
    "len(stack)==0"
   ]
  },
  {
   "cell_type": "code",
   "execution_count": null,
   "id": "91c8af83",
   "metadata": {
    "papermill": {
     "duration": 0.025221,
     "end_time": "2022-08-21T13:07:41.161796",
     "exception": false,
     "start_time": "2022-08-21T13:07:41.136575",
     "status": "completed"
    },
    "tags": []
   },
   "outputs": [],
   "source": []
  },
  {
   "cell_type": "markdown",
   "id": "96395618",
   "metadata": {
    "papermill": {
     "duration": 0.025402,
     "end_time": "2022-08-21T13:07:41.212774",
     "exception": false,
     "start_time": "2022-08-21T13:07:41.187372",
     "status": "completed"
    },
    "tags": []
   },
   "source": [
    "<a id=\"content4\"></a>\n",
    "## 4. Queue\n",
    "\n",
    "Let's see some basic queue operations now."
   ]
  },
  {
   "cell_type": "markdown",
   "id": "9254ba9c",
   "metadata": {
    "papermill": {
     "duration": 0.025193,
     "end_time": "2022-08-21T13:07:41.263788",
     "exception": false,
     "start_time": "2022-08-21T13:07:41.238595",
     "status": "completed"
    },
    "tags": []
   },
   "source": [
    "#### Again, we will use 'List' to implement queue in Python. Notice how index manipulation is used to implement either FIFO (queue) or LIFO(stack) property."
   ]
  },
  {
   "cell_type": "code",
   "execution_count": 22,
   "id": "f3ec74c1",
   "metadata": {
    "execution": {
     "iopub.execute_input": "2022-08-21T13:07:41.316944Z",
     "iopub.status.busy": "2022-08-21T13:07:41.316493Z",
     "iopub.status.idle": "2022-08-21T13:07:41.321715Z",
     "shell.execute_reply": "2022-08-21T13:07:41.320280Z"
    },
    "papermill": {
     "duration": 0.034877,
     "end_time": "2022-08-21T13:07:41.324329",
     "exception": false,
     "start_time": "2022-08-21T13:07:41.289452",
     "status": "completed"
    },
    "tags": []
   },
   "outputs": [],
   "source": [
    "# Create queue\n",
    "queue=[]"
   ]
  },
  {
   "cell_type": "code",
   "execution_count": 23,
   "id": "58b9373c",
   "metadata": {
    "execution": {
     "iopub.execute_input": "2022-08-21T13:07:41.379708Z",
     "iopub.status.busy": "2022-08-21T13:07:41.379188Z",
     "iopub.status.idle": "2022-08-21T13:07:41.387383Z",
     "shell.execute_reply": "2022-08-21T13:07:41.386117Z"
    },
    "papermill": {
     "duration": 0.0396,
     "end_time": "2022-08-21T13:07:41.389796",
     "exception": false,
     "start_time": "2022-08-21T13:07:41.350196",
     "status": "completed"
    },
    "tags": []
   },
   "outputs": [
    {
     "data": {
      "text/plain": [
       "[1, 2, 3, 4, 5, 6, 7, 8, 9, 10]"
      ]
     },
     "execution_count": 23,
     "metadata": {},
     "output_type": "execute_result"
    }
   ],
   "source": [
    "# Push element to Q.\n",
    "for i in range(10):\n",
    "    queue.append(i+1)\n",
    "    \n",
    "queue # Leftmost being front of Q."
   ]
  },
  {
   "cell_type": "code",
   "execution_count": 24,
   "id": "8b45f61f",
   "metadata": {
    "execution": {
     "iopub.execute_input": "2022-08-21T13:07:41.444019Z",
     "iopub.status.busy": "2022-08-21T13:07:41.443230Z",
     "iopub.status.idle": "2022-08-21T13:07:41.452831Z",
     "shell.execute_reply": "2022-08-21T13:07:41.451116Z"
    },
    "papermill": {
     "duration": 0.040038,
     "end_time": "2022-08-21T13:07:41.455682",
     "exception": false,
     "start_time": "2022-08-21T13:07:41.415644",
     "status": "completed"
    },
    "tags": []
   },
   "outputs": [
    {
     "name": "stdout",
     "output_type": "stream",
     "text": [
      "1\n"
     ]
    },
    {
     "data": {
      "text/plain": [
       "[2, 3, 4, 5, 6, 7, 8, 9, 10]"
      ]
     },
     "execution_count": 24,
     "metadata": {},
     "output_type": "execute_result"
    }
   ],
   "source": [
    "# Pop from Queue(FIFO)\n",
    "if len(queue)!=0:\n",
    "    popped=queue.pop(0)\n",
    "    print(popped)\n",
    "else:\n",
    "    print(\"Q is empty!\")\n",
    "    \n",
    "queue"
   ]
  },
  {
   "cell_type": "code",
   "execution_count": 25,
   "id": "0edc3e2d",
   "metadata": {
    "execution": {
     "iopub.execute_input": "2022-08-21T13:07:41.510315Z",
     "iopub.status.busy": "2022-08-21T13:07:41.509854Z",
     "iopub.status.idle": "2022-08-21T13:07:41.517025Z",
     "shell.execute_reply": "2022-08-21T13:07:41.515835Z"
    },
    "papermill": {
     "duration": 0.037389,
     "end_time": "2022-08-21T13:07:41.519570",
     "exception": false,
     "start_time": "2022-08-21T13:07:41.482181",
     "status": "completed"
    },
    "tags": []
   },
   "outputs": [
    {
     "data": {
      "text/plain": [
       "2"
      ]
     },
     "execution_count": 25,
     "metadata": {},
     "output_type": "execute_result"
    }
   ],
   "source": [
    "# Front of queue\n",
    "queue[0]"
   ]
  },
  {
   "cell_type": "code",
   "execution_count": 26,
   "id": "c76fabc6",
   "metadata": {
    "execution": {
     "iopub.execute_input": "2022-08-21T13:07:41.573885Z",
     "iopub.status.busy": "2022-08-21T13:07:41.573441Z",
     "iopub.status.idle": "2022-08-21T13:07:41.580713Z",
     "shell.execute_reply": "2022-08-21T13:07:41.579446Z"
    },
    "papermill": {
     "duration": 0.037521,
     "end_time": "2022-08-21T13:07:41.583075",
     "exception": false,
     "start_time": "2022-08-21T13:07:41.545554",
     "status": "completed"
    },
    "tags": []
   },
   "outputs": [
    {
     "data": {
      "text/plain": [
       "False"
      ]
     },
     "execution_count": 26,
     "metadata": {},
     "output_type": "execute_result"
    }
   ],
   "source": [
    "# Empty?\n",
    "len(queue)==0"
   ]
  },
  {
   "cell_type": "code",
   "execution_count": null,
   "id": "4fb45cbe",
   "metadata": {
    "papermill": {
     "duration": 0.028837,
     "end_time": "2022-08-21T13:07:41.637785",
     "exception": false,
     "start_time": "2022-08-21T13:07:41.608948",
     "status": "completed"
    },
    "tags": []
   },
   "outputs": [],
   "source": []
  },
  {
   "cell_type": "markdown",
   "id": "022769b6",
   "metadata": {
    "papermill": {
     "duration": 0.032931,
     "end_time": "2022-08-21T13:07:41.702377",
     "exception": false,
     "start_time": "2022-08-21T13:07:41.669446",
     "status": "completed"
    },
    "tags": []
   },
   "source": [
    "<a id=\"content5\"></a>\n",
    "## 5. Linked List\n",
    "\n",
    "Let's see Linked list into action now. \n",
    "\n",
    "**Unlike, C/C++, there won't be any pointers here 😊😊😊. We can create a class to represent a node and then create linked list using that.**"
   ]
  },
  {
   "cell_type": "code",
   "execution_count": 27,
   "id": "ce9152dd",
   "metadata": {
    "execution": {
     "iopub.execute_input": "2022-08-21T13:07:41.758206Z",
     "iopub.status.busy": "2022-08-21T13:07:41.757758Z",
     "iopub.status.idle": "2022-08-21T13:07:41.763922Z",
     "shell.execute_reply": "2022-08-21T13:07:41.762371Z"
    },
    "papermill": {
     "duration": 0.037737,
     "end_time": "2022-08-21T13:07:41.766637",
     "exception": false,
     "start_time": "2022-08-21T13:07:41.728900",
     "status": "completed"
    },
    "tags": []
   },
   "outputs": [],
   "source": [
    "# template for a linked list node\n",
    "class ListNode():\n",
    "    def __init__(self,data=0,next=None):\n",
    "        self.data=data\n",
    "        self.next=next"
   ]
  },
  {
   "cell_type": "code",
   "execution_count": 28,
   "id": "983b0781",
   "metadata": {
    "execution": {
     "iopub.execute_input": "2022-08-21T13:07:41.827048Z",
     "iopub.status.busy": "2022-08-21T13:07:41.826596Z",
     "iopub.status.idle": "2022-08-21T13:07:41.831707Z",
     "shell.execute_reply": "2022-08-21T13:07:41.830557Z"
    },
    "papermill": {
     "duration": 0.036015,
     "end_time": "2022-08-21T13:07:41.834081",
     "exception": false,
     "start_time": "2022-08-21T13:07:41.798066",
     "status": "completed"
    },
    "tags": []
   },
   "outputs": [],
   "source": [
    "# Creating a node.\n",
    "start=ListNode(1,None)"
   ]
  },
  {
   "cell_type": "markdown",
   "id": "52c2492c",
   "metadata": {
    "papermill": {
     "duration": 0.026333,
     "end_time": "2022-08-21T13:07:41.887996",
     "exception": false,
     "start_time": "2022-08-21T13:07:41.861663",
     "status": "completed"
    },
    "tags": []
   },
   "source": [
    "This creates a single node with **value =1 and next pointer currently assigned as None**. Now let's try to create a simple linked list using this:"
   ]
  },
  {
   "cell_type": "code",
   "execution_count": 29,
   "id": "7bf3710a",
   "metadata": {
    "execution": {
     "iopub.execute_input": "2022-08-21T13:07:41.954873Z",
     "iopub.status.busy": "2022-08-21T13:07:41.953885Z",
     "iopub.status.idle": "2022-08-21T13:07:41.960244Z",
     "shell.execute_reply": "2022-08-21T13:07:41.959266Z"
    },
    "papermill": {
     "duration": 0.041741,
     "end_time": "2022-08-21T13:07:41.962939",
     "exception": false,
     "start_time": "2022-08-21T13:07:41.921198",
     "status": "completed"
    },
    "tags": []
   },
   "outputs": [],
   "source": [
    "countNodes=10\n",
    "prev=start\n",
    "while countNodes:\n",
    "    node=ListNode(countNodes) # using val of countNodes for data. can be any integer.nothing else\n",
    "    prev.next=node\n",
    "    prev=node\n",
    "    countNodes-=1"
   ]
  },
  {
   "cell_type": "code",
   "execution_count": 30,
   "id": "94d8a1aa",
   "metadata": {
    "execution": {
     "iopub.execute_input": "2022-08-21T13:07:42.033802Z",
     "iopub.status.busy": "2022-08-21T13:07:42.032927Z",
     "iopub.status.idle": "2022-08-21T13:07:42.040826Z",
     "shell.execute_reply": "2022-08-21T13:07:42.039745Z"
    },
    "papermill": {
     "duration": 0.045546,
     "end_time": "2022-08-21T13:07:42.043249",
     "exception": false,
     "start_time": "2022-08-21T13:07:41.997703",
     "status": "completed"
    },
    "tags": []
   },
   "outputs": [
    {
     "data": {
      "text/plain": [
       "(1, 10)"
      ]
     },
     "execution_count": 30,
     "metadata": {},
     "output_type": "execute_result"
    }
   ],
   "source": [
    "start.data, start.next.data"
   ]
  },
  {
   "cell_type": "code",
   "execution_count": 31,
   "id": "89590af8",
   "metadata": {
    "execution": {
     "iopub.execute_input": "2022-08-21T13:07:42.099447Z",
     "iopub.status.busy": "2022-08-21T13:07:42.098960Z",
     "iopub.status.idle": "2022-08-21T13:07:42.105825Z",
     "shell.execute_reply": "2022-08-21T13:07:42.104554Z"
    },
    "papermill": {
     "duration": 0.038274,
     "end_time": "2022-08-21T13:07:42.108504",
     "exception": false,
     "start_time": "2022-08-21T13:07:42.070230",
     "status": "completed"
    },
    "tags": []
   },
   "outputs": [
    {
     "name": "stdout",
     "output_type": "stream",
     "text": [
      "1 10 9 8 7 6 5 4 3 2 1 "
     ]
    }
   ],
   "source": [
    "# Displaying linked list\n",
    "def displayList(start):\n",
    "    temp=start\n",
    "    while temp:\n",
    "        print(temp.data,end=' ')\n",
    "        temp=temp.next\n",
    "        \n",
    "# starting 1 is bcoz of individual node that we created at start.\n",
    "displayList(start)"
   ]
  },
  {
   "cell_type": "markdown",
   "id": "e93081cb",
   "metadata": {
    "papermill": {
     "duration": 0.026587,
     "end_time": "2022-08-21T13:07:42.161694",
     "exception": false,
     "start_time": "2022-08-21T13:07:42.135107",
     "status": "completed"
    },
    "tags": []
   },
   "source": [
    "#### Reversing a Linked List."
   ]
  },
  {
   "cell_type": "code",
   "execution_count": 32,
   "id": "736eefc7",
   "metadata": {
    "execution": {
     "iopub.execute_input": "2022-08-21T13:07:42.217785Z",
     "iopub.status.busy": "2022-08-21T13:07:42.217262Z",
     "iopub.status.idle": "2022-08-21T13:07:42.223867Z",
     "shell.execute_reply": "2022-08-21T13:07:42.222544Z"
    },
    "papermill": {
     "duration": 0.037498,
     "end_time": "2022-08-21T13:07:42.226294",
     "exception": false,
     "start_time": "2022-08-21T13:07:42.188796",
     "status": "completed"
    },
    "tags": []
   },
   "outputs": [],
   "source": [
    "def reverseList(start):\n",
    "    temp=start\n",
    "    prev=None\n",
    "    backup=None\n",
    "    while temp:\n",
    "        backup=temp.next\n",
    "        temp.next=prev\n",
    "        prev=temp\n",
    "        temp=backup\n",
    "    start=prev\n",
    "    return start\n",
    "    "
   ]
  },
  {
   "cell_type": "code",
   "execution_count": 33,
   "id": "8bc2e7bd",
   "metadata": {
    "execution": {
     "iopub.execute_input": "2022-08-21T13:07:42.282893Z",
     "iopub.status.busy": "2022-08-21T13:07:42.282282Z",
     "iopub.status.idle": "2022-08-21T13:07:42.288592Z",
     "shell.execute_reply": "2022-08-21T13:07:42.287646Z"
    },
    "papermill": {
     "duration": 0.037246,
     "end_time": "2022-08-21T13:07:42.290924",
     "exception": false,
     "start_time": "2022-08-21T13:07:42.253678",
     "status": "completed"
    },
    "tags": []
   },
   "outputs": [
    {
     "name": "stdout",
     "output_type": "stream",
     "text": [
      "1 2 3 4 5 6 7 8 9 10 1 "
     ]
    }
   ],
   "source": [
    "start=reverseList(start)\n",
    "displayList(start)"
   ]
  },
  {
   "cell_type": "code",
   "execution_count": null,
   "id": "dc31852c",
   "metadata": {
    "papermill": {
     "duration": 0.026915,
     "end_time": "2022-08-21T13:07:42.344949",
     "exception": false,
     "start_time": "2022-08-21T13:07:42.318034",
     "status": "completed"
    },
    "tags": []
   },
   "outputs": [],
   "source": []
  },
  {
   "cell_type": "markdown",
   "id": "cae0ecc3",
   "metadata": {
    "papermill": {
     "duration": 0.026524,
     "end_time": "2022-08-21T13:07:42.399114",
     "exception": false,
     "start_time": "2022-08-21T13:07:42.372590",
     "status": "completed"
    },
    "tags": []
   },
   "source": [
    "<a id=\"content6\"></a>\n",
    "## 6. Tree\n",
    "\n",
    "Lets now move onto trees. Will try to implement binary Tree in Python. The approach remains same as we saw in LL, we will create a class to represent a node of tree and then build whole tree on the top of it!"
   ]
  },
  {
   "cell_type": "code",
   "execution_count": 34,
   "id": "8784bc01",
   "metadata": {
    "execution": {
     "iopub.execute_input": "2022-08-21T13:07:42.455050Z",
     "iopub.status.busy": "2022-08-21T13:07:42.454462Z",
     "iopub.status.idle": "2022-08-21T13:07:42.463364Z",
     "shell.execute_reply": "2022-08-21T13:07:42.462135Z"
    },
    "papermill": {
     "duration": 0.039813,
     "end_time": "2022-08-21T13:07:42.465787",
     "exception": false,
     "start_time": "2022-08-21T13:07:42.425974",
     "status": "completed"
    },
    "tags": []
   },
   "outputs": [],
   "source": [
    "class TreeNode():\n",
    "    def __init__(self,data=0,left=None,right=None):\n",
    "        self.data=data\n",
    "        self.left=left\n",
    "        self.right=right"
   ]
  },
  {
   "cell_type": "code",
   "execution_count": 35,
   "id": "f85d4e00",
   "metadata": {
    "execution": {
     "iopub.execute_input": "2022-08-21T13:07:42.523717Z",
     "iopub.status.busy": "2022-08-21T13:07:42.522140Z",
     "iopub.status.idle": "2022-08-21T13:07:42.531296Z",
     "shell.execute_reply": "2022-08-21T13:07:42.529139Z"
    },
    "papermill": {
     "duration": 0.041536,
     "end_time": "2022-08-21T13:07:42.534327",
     "exception": false,
     "start_time": "2022-08-21T13:07:42.492791",
     "status": "completed"
    },
    "tags": []
   },
   "outputs": [],
   "source": [
    "# Creating a node of the tree\n",
    "root=TreeNode(1)"
   ]
  },
  {
   "cell_type": "markdown",
   "id": "deeaedf1",
   "metadata": {
    "papermill": {
     "duration": 0.025869,
     "end_time": "2022-08-21T13:07:42.587275",
     "exception": false,
     "start_time": "2022-08-21T13:07:42.561406",
     "status": "completed"
    },
    "tags": []
   },
   "source": [
    "#### Now note that we can create the tree by populating the left and right pointers of root and subsequent nodes (children).\n",
    "\n",
    "Lets assume that we want to create the following tree: \n",
    "\n",
    "                                 1\n",
    "                              /    \\\n",
    "                             2      3\n",
    "                            / \\      \\\n",
    "                           4   5      6\n",
    "                           \n",
    "                          \n",
    "Then we can create it as:"
   ]
  },
  {
   "cell_type": "code",
   "execution_count": 36,
   "id": "a075ad8e",
   "metadata": {
    "execution": {
     "iopub.execute_input": "2022-08-21T13:07:42.642795Z",
     "iopub.status.busy": "2022-08-21T13:07:42.641681Z",
     "iopub.status.idle": "2022-08-21T13:07:42.648744Z",
     "shell.execute_reply": "2022-08-21T13:07:42.647640Z"
    },
    "papermill": {
     "duration": 0.038033,
     "end_time": "2022-08-21T13:07:42.651268",
     "exception": false,
     "start_time": "2022-08-21T13:07:42.613235",
     "status": "completed"
    },
    "tags": []
   },
   "outputs": [],
   "source": [
    "root.left=TreeNode(2)\n",
    "root.right=TreeNode(3)\n",
    "\n",
    "root.left.left=TreeNode(4)\n",
    "root.left.right=TreeNode(5)\n",
    "\n",
    "root.right.right=TreeNode(6)"
   ]
  },
  {
   "cell_type": "markdown",
   "id": "f5ea8c96",
   "metadata": {
    "papermill": {
     "duration": 0.026176,
     "end_time": "2022-08-21T13:07:42.704071",
     "exception": false,
     "start_time": "2022-08-21T13:07:42.677895",
     "status": "completed"
    },
    "tags": []
   },
   "source": [
    "To check if the tree is created correctly, we can traverse it, say in the **Inorder** fashion.\n",
    "\n",
    "#### Inorder Traversal."
   ]
  },
  {
   "cell_type": "code",
   "execution_count": 37,
   "id": "028a34ca",
   "metadata": {
    "execution": {
     "iopub.execute_input": "2022-08-21T13:07:42.759277Z",
     "iopub.status.busy": "2022-08-21T13:07:42.758143Z",
     "iopub.status.idle": "2022-08-21T13:07:42.765302Z",
     "shell.execute_reply": "2022-08-21T13:07:42.764277Z"
    },
    "papermill": {
     "duration": 0.037877,
     "end_time": "2022-08-21T13:07:42.768089",
     "exception": false,
     "start_time": "2022-08-21T13:07:42.730212",
     "status": "completed"
    },
    "tags": []
   },
   "outputs": [],
   "source": [
    "def inorder(root):\n",
    "    if root:\n",
    "        inorder(root.left)\n",
    "        print(root.data,end=' ')\n",
    "        inorder(root.right)"
   ]
  },
  {
   "cell_type": "code",
   "execution_count": 38,
   "id": "f01b5b0d",
   "metadata": {
    "execution": {
     "iopub.execute_input": "2022-08-21T13:07:42.824918Z",
     "iopub.status.busy": "2022-08-21T13:07:42.823919Z",
     "iopub.status.idle": "2022-08-21T13:07:42.831260Z",
     "shell.execute_reply": "2022-08-21T13:07:42.829683Z"
    },
    "papermill": {
     "duration": 0.039952,
     "end_time": "2022-08-21T13:07:42.835229",
     "exception": false,
     "start_time": "2022-08-21T13:07:42.795277",
     "status": "completed"
    },
    "tags": []
   },
   "outputs": [
    {
     "name": "stdout",
     "output_type": "stream",
     "text": [
      "The inorder traversal of given binary tree is: \n",
      "4 2 5 1 3 6 "
     ]
    }
   ],
   "source": [
    "print(\"The inorder traversal of given binary tree is: \")\n",
    "inorder(root)"
   ]
  },
  {
   "cell_type": "code",
   "execution_count": null,
   "id": "dffd5be9",
   "metadata": {
    "papermill": {
     "duration": 0.026367,
     "end_time": "2022-08-21T13:07:42.888712",
     "exception": false,
     "start_time": "2022-08-21T13:07:42.862345",
     "status": "completed"
    },
    "tags": []
   },
   "outputs": [],
   "source": []
  },
  {
   "cell_type": "markdown",
   "id": "ebd8ce9c",
   "metadata": {
    "papermill": {
     "duration": 0.026319,
     "end_time": "2022-08-21T13:07:42.941274",
     "exception": false,
     "start_time": "2022-08-21T13:07:42.914955",
     "status": "completed"
    },
    "tags": []
   },
   "source": [
    "<a id=\"content7\"></a>\n",
    "## 7. BSTs\n",
    "\n",
    "**In a BST, at every node, all the values in its left subtree are smaller than it and all the values in right subtree are greater than it.**\n",
    "\n",
    "The approach to construct a BST remains same as in normal binary tree. We can use the same TreeNode class to contruct BST.\n",
    "\n",
    "Lets say we want to create the BST as:\n",
    "\n",
    "                                 10\n",
    "                                /  \\\n",
    "                               7    15\n",
    "                              / \\  /  \\\n",
    "                             3  9  12  18\n",
    "                             \n",
    "This can be achieved as:\n"
   ]
  },
  {
   "cell_type": "code",
   "execution_count": 39,
   "id": "df7143af",
   "metadata": {
    "execution": {
     "iopub.execute_input": "2022-08-21T13:07:42.997690Z",
     "iopub.status.busy": "2022-08-21T13:07:42.996702Z",
     "iopub.status.idle": "2022-08-21T13:07:43.003640Z",
     "shell.execute_reply": "2022-08-21T13:07:43.002725Z"
    },
    "papermill": {
     "duration": 0.038143,
     "end_time": "2022-08-21T13:07:43.006068",
     "exception": false,
     "start_time": "2022-08-21T13:07:42.967925",
     "status": "completed"
    },
    "tags": []
   },
   "outputs": [],
   "source": [
    "root=TreeNode(10)\n",
    "\n",
    "root.left=TreeNode(7)\n",
    "root.right=TreeNode(15)\n",
    "\n",
    "root.left.left=TreeNode(3)\n",
    "root.left.right=TreeNode(9)\n",
    "\n",
    "root.right.left=TreeNode(12)\n",
    "root.right.right=TreeNode(18)"
   ]
  },
  {
   "cell_type": "markdown",
   "id": "a2166318",
   "metadata": {
    "papermill": {
     "duration": 0.026262,
     "end_time": "2022-08-21T13:07:43.058856",
     "exception": false,
     "start_time": "2022-08-21T13:07:43.032594",
     "status": "completed"
    },
    "tags": []
   },
   "source": [
    "**Printing inorder to check if BST is constrcuted properly!!**"
   ]
  },
  {
   "cell_type": "code",
   "execution_count": 40,
   "id": "5af9aba4",
   "metadata": {
    "execution": {
     "iopub.execute_input": "2022-08-21T13:07:43.113922Z",
     "iopub.status.busy": "2022-08-21T13:07:43.112917Z",
     "iopub.status.idle": "2022-08-21T13:07:43.119889Z",
     "shell.execute_reply": "2022-08-21T13:07:43.118500Z"
    },
    "papermill": {
     "duration": 0.037612,
     "end_time": "2022-08-21T13:07:43.122540",
     "exception": false,
     "start_time": "2022-08-21T13:07:43.084928",
     "status": "completed"
    },
    "tags": []
   },
   "outputs": [
    {
     "name": "stdout",
     "output_type": "stream",
     "text": [
      "The inorder traversal of given BST is: \n",
      "3 7 9 10 12 15 18 "
     ]
    }
   ],
   "source": [
    "print(\"The inorder traversal of given BST is: \")\n",
    "inorder(root)"
   ]
  },
  {
   "cell_type": "markdown",
   "id": "1a386641",
   "metadata": {
    "papermill": {
     "duration": 0.026343,
     "end_time": "2022-08-21T13:07:43.175621",
     "exception": false,
     "start_time": "2022-08-21T13:07:43.149278",
     "status": "completed"
    },
    "tags": []
   },
   "source": [
    "#### Note that an inorder traversal of a BST is always sorted!!!"
   ]
  },
  {
   "cell_type": "code",
   "execution_count": null,
   "id": "365ad8bc",
   "metadata": {
    "papermill": {
     "duration": 0.02599,
     "end_time": "2022-08-21T13:07:43.227846",
     "exception": false,
     "start_time": "2022-08-21T13:07:43.201856",
     "status": "completed"
    },
    "tags": []
   },
   "outputs": [],
   "source": []
  },
  {
   "cell_type": "markdown",
   "id": "e29be6d7",
   "metadata": {
    "papermill": {
     "duration": 0.026178,
     "end_time": "2022-08-21T13:07:43.280512",
     "exception": false,
     "start_time": "2022-08-21T13:07:43.254334",
     "status": "completed"
    },
    "tags": []
   },
   "source": [
    "<a id=\"content8\"></a>\n",
    "## 8. Heap\n",
    "A **heap** has 2 key properties:\n",
    "\n",
    "1. **Complete Binary Tree:** All the levels are filled fully except the last one which is filled from the left.   &\n",
    "\n",
    "2. **Min/Max heap property:** Every parent's value is lesser(greater in Max heap) than its children."
   ]
  },
  {
   "cell_type": "markdown",
   "id": "27a4778e",
   "metadata": {
    "papermill": {
     "duration": 0.026684,
     "end_time": "2022-08-21T13:07:43.333442",
     "exception": false,
     "start_time": "2022-08-21T13:07:43.306758",
     "status": "completed"
    },
    "tags": []
   },
   "source": [
    "Lets now move onto implementation of Heaps. For that, we shall use the **heapq** module in python.\n",
    "\n",
    "**Also,  note one important thing. In python, when using the _heapq module_, the heap created by default is a min heap. To use it as a max heap insert elements by multiplying by -1 and make sure to repeat the same while consuming the elements popped from the heap !!!**"
   ]
  },
  {
   "cell_type": "code",
   "execution_count": 41,
   "id": "0c519e51",
   "metadata": {
    "execution": {
     "iopub.execute_input": "2022-08-21T13:07:43.390660Z",
     "iopub.status.busy": "2022-08-21T13:07:43.390194Z",
     "iopub.status.idle": "2022-08-21T13:07:43.397064Z",
     "shell.execute_reply": "2022-08-21T13:07:43.396165Z"
    },
    "papermill": {
     "duration": 0.038235,
     "end_time": "2022-08-21T13:07:43.399062",
     "exception": false,
     "start_time": "2022-08-21T13:07:43.360827",
     "status": "completed"
    },
    "tags": []
   },
   "outputs": [
    {
     "data": {
      "text/plain": [
       "[5, 7, 4, 2, 3, 6, 9]"
      ]
     },
     "execution_count": 41,
     "metadata": {},
     "output_type": "execute_result"
    }
   ],
   "source": [
    "arr=[5,7,4,2,3,6,9]\n",
    "arr"
   ]
  },
  {
   "cell_type": "code",
   "execution_count": 42,
   "id": "55d5ce1e",
   "metadata": {
    "execution": {
     "iopub.execute_input": "2022-08-21T13:07:43.454814Z",
     "iopub.status.busy": "2022-08-21T13:07:43.453583Z",
     "iopub.status.idle": "2022-08-21T13:07:43.460401Z",
     "shell.execute_reply": "2022-08-21T13:07:43.459585Z"
    },
    "papermill": {
     "duration": 0.036757,
     "end_time": "2022-08-21T13:07:43.462506",
     "exception": false,
     "start_time": "2022-08-21T13:07:43.425749",
     "status": "completed"
    },
    "tags": []
   },
   "outputs": [
    {
     "data": {
      "text/plain": [
       "[2, 3, 4, 7, 5, 6, 9]"
      ]
     },
     "execution_count": 42,
     "metadata": {},
     "output_type": "execute_result"
    }
   ],
   "source": [
    "import heapq\n",
    "heap=arr\n",
    "heapq.heapify(heap)\n",
    "heap"
   ]
  },
  {
   "cell_type": "markdown",
   "id": "b4813465",
   "metadata": {
    "papermill": {
     "duration": 0.026147,
     "end_time": "2022-08-21T13:07:43.515396",
     "exception": false,
     "start_time": "2022-08-21T13:07:43.489249",
     "status": "completed"
    },
    "tags": []
   },
   "source": [
    "This craetes a heap that looks like:\n",
    " \n",
    "                               2\n",
    "                             /   \\\n",
    "                            3     4\n",
    "                           /  \\   / \\\n",
    "                         7    5  6   9"
   ]
  },
  {
   "cell_type": "code",
   "execution_count": 43,
   "id": "f0978dd6",
   "metadata": {
    "execution": {
     "iopub.execute_input": "2022-08-21T13:07:43.571224Z",
     "iopub.status.busy": "2022-08-21T13:07:43.570017Z",
     "iopub.status.idle": "2022-08-21T13:07:43.579333Z",
     "shell.execute_reply": "2022-08-21T13:07:43.577852Z"
    },
    "papermill": {
     "duration": 0.039875,
     "end_time": "2022-08-21T13:07:43.581886",
     "exception": false,
     "start_time": "2022-08-21T13:07:43.542011",
     "status": "completed"
    },
    "tags": []
   },
   "outputs": [
    {
     "data": {
      "text/plain": [
       "[2, 3, 4, 7, 5, 6, 9, 12, 10]"
      ]
     },
     "execution_count": 43,
     "metadata": {},
     "output_type": "execute_result"
    }
   ],
   "source": [
    "# adding elements to heap\n",
    "heapq.heappush(heap,12)\n",
    "heapq.heappush(heap,10)\n",
    "heap"
   ]
  },
  {
   "cell_type": "code",
   "execution_count": 44,
   "id": "6da1f231",
   "metadata": {
    "execution": {
     "iopub.execute_input": "2022-08-21T13:07:43.638546Z",
     "iopub.status.busy": "2022-08-21T13:07:43.637287Z",
     "iopub.status.idle": "2022-08-21T13:07:43.646324Z",
     "shell.execute_reply": "2022-08-21T13:07:43.644771Z"
    },
    "papermill": {
     "duration": 0.039527,
     "end_time": "2022-08-21T13:07:43.648597",
     "exception": false,
     "start_time": "2022-08-21T13:07:43.609070",
     "status": "completed"
    },
    "tags": []
   },
   "outputs": [
    {
     "name": "stdout",
     "output_type": "stream",
     "text": [
      "2\n"
     ]
    },
    {
     "data": {
      "text/plain": [
       "[3, 5, 4, 7, 10, 6, 9, 12]"
      ]
     },
     "execution_count": 44,
     "metadata": {},
     "output_type": "execute_result"
    }
   ],
   "source": [
    "# popping elements from heap\n",
    "heap_top=heapq.heappop(heap)\n",
    "print(heap_top)\n",
    "heap"
   ]
  },
  {
   "cell_type": "code",
   "execution_count": null,
   "id": "110309a9",
   "metadata": {
    "papermill": {
     "duration": 0.026925,
     "end_time": "2022-08-21T13:07:43.702530",
     "exception": false,
     "start_time": "2022-08-21T13:07:43.675605",
     "status": "completed"
    },
    "tags": []
   },
   "outputs": [],
   "source": []
  },
  {
   "cell_type": "markdown",
   "id": "b7447e94",
   "metadata": {
    "papermill": {
     "duration": 0.026232,
     "end_time": "2022-08-21T13:07:43.755634",
     "exception": false,
     "start_time": "2022-08-21T13:07:43.729402",
     "status": "completed"
    },
    "tags": []
   },
   "source": [
    "<a id=\"content9\"></a>\n",
    "## 9. Graphs\n",
    "\n",
    "Lets now move onto **Graphs**. We will create a class for Graph and then create an instance of the same. \n",
    "\n",
    "We shall then implement standard **BFS** and **DFS** traversals."
   ]
  },
  {
   "cell_type": "code",
   "execution_count": 45,
   "id": "7a3efce4",
   "metadata": {
    "execution": {
     "iopub.execute_input": "2022-08-21T13:07:43.813260Z",
     "iopub.status.busy": "2022-08-21T13:07:43.812343Z",
     "iopub.status.idle": "2022-08-21T13:07:43.826099Z",
     "shell.execute_reply": "2022-08-21T13:07:43.825003Z"
    },
    "papermill": {
     "duration": 0.044994,
     "end_time": "2022-08-21T13:07:43.828575",
     "exception": false,
     "start_time": "2022-08-21T13:07:43.783581",
     "status": "completed"
    },
    "tags": []
   },
   "outputs": [],
   "source": [
    "class Graph():\n",
    "    def __init__(self,edges=None,nodes=3,directed=False):\n",
    "        self.edges=edges\n",
    "        self.nodes=nodes\n",
    "        self.isDirected=directed\n",
    "        \n",
    "        self.adj=[[] for _ in range(self.nodes)]\n",
    "        self.createGraph()\n",
    "        \n",
    "        \n",
    "    def createGraph(self):\n",
    "        for (u,v) in self.edges:\n",
    "            self.adj[u].append(v)\n",
    "            if not self.isDirected:\n",
    "                self.adj[v].append(u)\n",
    "    \n",
    "    def bfs(self,source=0):\n",
    "        bfs=[]\n",
    "        visited=[False]*self.nodes\n",
    "        dist=[sys.maxsize]*self.nodes\n",
    "        queue=[]\n",
    "        \n",
    "        visited[source]=True\n",
    "        dist[source]=0\n",
    "        queue.append(source)\n",
    "        \n",
    "        while len(queue)>0:\n",
    "            curr=queue.pop(0)\n",
    "            bfs.append(curr)\n",
    "            for vertex in self.adj[curr]: # traversing adjacency list of currently popped vertex.\n",
    "                if not visited[vertex]:\n",
    "                    visited[vertex]=True\n",
    "                    queue.append(vertex)\n",
    "                    dist[vertex]=dist[curr]+1\n",
    "        \n",
    "        return bfs,dist  \n",
    "    \n",
    "    \n",
    "    def dfs(self,source=0):\n",
    "        dfs=[]\n",
    "        visited=[False]*self.nodes\n",
    "        self.dfsUtil(source,visited,dfs)\n",
    "        return dfs\n",
    "    \n",
    "    def dfsUtil(self,source,visited,dfs):\n",
    "        visited[source]=True\n",
    "        dfs.append(source)\n",
    "        \n",
    "        for vertex in self.adj[source]:\n",
    "            if not visited[vertex]:\n",
    "                self.dfsUtil(vertex,visited,dfs)"
   ]
  },
  {
   "cell_type": "markdown",
   "id": "4fd22bec",
   "metadata": {
    "papermill": {
     "duration": 0.02667,
     "end_time": "2022-08-21T13:07:43.882682",
     "exception": false,
     "start_time": "2022-08-21T13:07:43.856012",
     "status": "completed"
    },
    "tags": []
   },
   "source": [
    "#### Let's now break it down. First let us create an object of the class and then try to print its Breadth First Traversal(BFS) and then Depth first Traversal(DFS)"
   ]
  },
  {
   "cell_type": "markdown",
   "id": "06d975b3",
   "metadata": {
    "papermill": {
     "duration": 0.026826,
     "end_time": "2022-08-21T13:07:43.937116",
     "exception": false,
     "start_time": "2022-08-21T13:07:43.910290",
     "status": "completed"
    },
    "tags": []
   },
   "source": [
    "Let' say we want to create the following simple **undirected** graph:\n",
    "\n",
    "                          0-----1\n",
    "                          |     |\n",
    "                          |     |\n",
    "                         2------3      \n",
    "                         \n",
    "  Then we can create it as:"
   ]
  },
  {
   "cell_type": "code",
   "execution_count": 46,
   "id": "cf6de78b",
   "metadata": {
    "execution": {
     "iopub.execute_input": "2022-08-21T13:07:43.994541Z",
     "iopub.status.busy": "2022-08-21T13:07:43.993757Z",
     "iopub.status.idle": "2022-08-21T13:07:43.998324Z",
     "shell.execute_reply": "2022-08-21T13:07:43.997574Z"
    },
    "papermill": {
     "duration": 0.035541,
     "end_time": "2022-08-21T13:07:44.000385",
     "exception": false,
     "start_time": "2022-08-21T13:07:43.964844",
     "status": "completed"
    },
    "tags": []
   },
   "outputs": [],
   "source": [
    "nodes=4\n",
    "edges=[(0,1),(1,3),(3,2),(2,0)]"
   ]
  },
  {
   "cell_type": "code",
   "execution_count": 47,
   "id": "9b284c3e",
   "metadata": {
    "execution": {
     "iopub.execute_input": "2022-08-21T13:07:44.057507Z",
     "iopub.status.busy": "2022-08-21T13:07:44.056684Z",
     "iopub.status.idle": "2022-08-21T13:07:44.061135Z",
     "shell.execute_reply": "2022-08-21T13:07:44.060363Z"
    },
    "papermill": {
     "duration": 0.035169,
     "end_time": "2022-08-21T13:07:44.063312",
     "exception": false,
     "start_time": "2022-08-21T13:07:44.028143",
     "status": "completed"
    },
    "tags": []
   },
   "outputs": [],
   "source": [
    "graph=Graph(edges,nodes)"
   ]
  },
  {
   "cell_type": "markdown",
   "id": "3f799c89",
   "metadata": {
    "papermill": {
     "duration": 0.026969,
     "end_time": "2022-08-21T13:07:44.117994",
     "exception": false,
     "start_time": "2022-08-21T13:07:44.091025",
     "status": "completed"
    },
    "tags": []
   },
   "source": [
    "#### To see if the graph is printed correctly, lets print its bfs from vertex 0."
   ]
  },
  {
   "cell_type": "code",
   "execution_count": 48,
   "id": "cf693f25",
   "metadata": {
    "execution": {
     "iopub.execute_input": "2022-08-21T13:07:44.174509Z",
     "iopub.status.busy": "2022-08-21T13:07:44.173706Z",
     "iopub.status.idle": "2022-08-21T13:07:44.181444Z",
     "shell.execute_reply": "2022-08-21T13:07:44.179725Z"
    },
    "papermill": {
     "duration": 0.038726,
     "end_time": "2022-08-21T13:07:44.183879",
     "exception": false,
     "start_time": "2022-08-21T13:07:44.145153",
     "status": "completed"
    },
    "tags": []
   },
   "outputs": [
    {
     "name": "stdout",
     "output_type": "stream",
     "text": [
      "The BFS of the given graph with source '0' is:  [0, 1, 2, 3]\n",
      "The distances from the source '0' are:  [0, 1, 1, 2]\n",
      "\n",
      "\n",
      "\n",
      "The BFS of the given graph with source '2' is:  [2, 3, 0, 1]\n",
      "The distances from the source '2' are:  [1, 2, 0, 1]\n"
     ]
    }
   ],
   "source": [
    "source=0\n",
    "bfs,dist=graph.bfs(source)\n",
    "print(\"The BFS of the given graph with source '0' is: \",bfs) # source=0\n",
    "print(\"The distances from the source '0' are: \",dist)\n",
    "\n",
    "print('\\n\\n')\n",
    "source=2\n",
    "bfs,dist=graph.bfs(source)\n",
    "print(\"The BFS of the given graph with source '2' is: \",bfs) # source=2\n",
    "print(\"The distances from the source '2' are: \",dist)"
   ]
  },
  {
   "cell_type": "code",
   "execution_count": null,
   "id": "5e5d29da",
   "metadata": {
    "papermill": {
     "duration": 0.02663,
     "end_time": "2022-08-21T13:07:44.237863",
     "exception": false,
     "start_time": "2022-08-21T13:07:44.211233",
     "status": "completed"
    },
    "tags": []
   },
   "outputs": [],
   "source": []
  },
  {
   "cell_type": "markdown",
   "id": "8e8b662f",
   "metadata": {
    "papermill": {
     "duration": 0.026743,
     "end_time": "2022-08-21T13:07:44.291483",
     "exception": false,
     "start_time": "2022-08-21T13:07:44.264740",
     "status": "completed"
    },
    "tags": []
   },
   "source": [
    "#### Let's now quickly try dfs too!"
   ]
  },
  {
   "cell_type": "code",
   "execution_count": 49,
   "id": "9309f898",
   "metadata": {
    "execution": {
     "iopub.execute_input": "2022-08-21T13:07:44.348261Z",
     "iopub.status.busy": "2022-08-21T13:07:44.347416Z",
     "iopub.status.idle": "2022-08-21T13:07:44.354148Z",
     "shell.execute_reply": "2022-08-21T13:07:44.352808Z"
    },
    "papermill": {
     "duration": 0.037448,
     "end_time": "2022-08-21T13:07:44.356233",
     "exception": false,
     "start_time": "2022-08-21T13:07:44.318785",
     "status": "completed"
    },
    "tags": []
   },
   "outputs": [
    {
     "name": "stdout",
     "output_type": "stream",
     "text": [
      "The DFS of the given graph with source '0' is:  [0, 1, 3, 2]\n",
      "The DFS of the given graph with source '3' is:  [3, 1, 0, 2]\n"
     ]
    }
   ],
   "source": [
    "source=0\n",
    "dfs=graph.dfs(source)\n",
    "print(\"The DFS of the given graph with source '0' is: \",dfs) # source=0\n",
    " \n",
    "    \n",
    "source=3\n",
    "dfs=graph.dfs(source)\n",
    "print(\"The DFS of the given graph with source '3' is: \",dfs) # source=3\n",
    " "
   ]
  },
  {
   "cell_type": "code",
   "execution_count": null,
   "id": "79d7d3fb",
   "metadata": {
    "papermill": {
     "duration": 0.026599,
     "end_time": "2022-08-21T13:07:44.409808",
     "exception": false,
     "start_time": "2022-08-21T13:07:44.383209",
     "status": "completed"
    },
    "tags": []
   },
   "outputs": [],
   "source": []
  },
  {
   "cell_type": "markdown",
   "id": "378b7ba5",
   "metadata": {
    "papermill": {
     "duration": 0.026413,
     "end_time": "2022-08-21T13:07:44.463343",
     "exception": false,
     "start_time": "2022-08-21T13:07:44.436930",
     "status": "completed"
    },
    "tags": []
   },
   "source": [
    "<a id=\"content10\"></a>\n",
    "## 10. Sets"
   ]
  },
  {
   "cell_type": "code",
   "execution_count": 50,
   "id": "55cf79c1",
   "metadata": {
    "execution": {
     "iopub.execute_input": "2022-08-21T13:07:44.519693Z",
     "iopub.status.busy": "2022-08-21T13:07:44.518772Z",
     "iopub.status.idle": "2022-08-21T13:07:44.526149Z",
     "shell.execute_reply": "2022-08-21T13:07:44.524496Z"
    },
    "papermill": {
     "duration": 0.038195,
     "end_time": "2022-08-21T13:07:44.528454",
     "exception": false,
     "start_time": "2022-08-21T13:07:44.490259",
     "status": "completed"
    },
    "tags": []
   },
   "outputs": [
    {
     "name": "stdout",
     "output_type": "stream",
     "text": [
      "set1: {2, 4, 5, 6, 7} len of set1: 5\n",
      "set2: {1, 4, 5, 9} len of set2: 4\n"
     ]
    }
   ],
   "source": [
    "set1=set([2,4,7,6,5,4,5])\n",
    "set2=set([1,5,9,4])\n",
    "print(\"set1:\",set1,\"len of set1:\",len(set1))\n",
    "print(\"set2:\",set2,\"len of set2:\",len(set2))"
   ]
  },
  {
   "cell_type": "code",
   "execution_count": 51,
   "id": "70fde03b",
   "metadata": {
    "execution": {
     "iopub.execute_input": "2022-08-21T13:07:44.585231Z",
     "iopub.status.busy": "2022-08-21T13:07:44.584750Z",
     "iopub.status.idle": "2022-08-21T13:07:44.592973Z",
     "shell.execute_reply": "2022-08-21T13:07:44.591756Z"
    },
    "papermill": {
     "duration": 0.039096,
     "end_time": "2022-08-21T13:07:44.594997",
     "exception": false,
     "start_time": "2022-08-21T13:07:44.555901",
     "status": "completed"
    },
    "tags": []
   },
   "outputs": [
    {
     "name": "stdout",
     "output_type": "stream",
     "text": [
      "{2, 4, 5, 6, 7, 9}\n"
     ]
    },
    {
     "data": {
      "text/plain": [
       "{4, 5, 9}"
      ]
     },
     "execution_count": 51,
     "metadata": {},
     "output_type": "execute_result"
    }
   ],
   "source": [
    "# Adding and deleting element in set\n",
    "set1.add(9)\n",
    "print(set1)\n",
    "set2.remove(1)\n",
    "set2"
   ]
  },
  {
   "cell_type": "markdown",
   "id": "f315c1a5",
   "metadata": {
    "papermill": {
     "duration": 0.028005,
     "end_time": "2022-08-21T13:07:44.650433",
     "exception": false,
     "start_time": "2022-08-21T13:07:44.622428",
     "status": "completed"
    },
    "tags": []
   },
   "source": [
    "**Just like maths, we can use some basic set operations in Python!**"
   ]
  },
  {
   "cell_type": "code",
   "execution_count": 52,
   "id": "b7f74e24",
   "metadata": {
    "execution": {
     "iopub.execute_input": "2022-08-21T13:07:44.707643Z",
     "iopub.status.busy": "2022-08-21T13:07:44.707136Z",
     "iopub.status.idle": "2022-08-21T13:07:44.713392Z",
     "shell.execute_reply": "2022-08-21T13:07:44.712537Z"
    },
    "papermill": {
     "duration": 0.037325,
     "end_time": "2022-08-21T13:07:44.715334",
     "exception": false,
     "start_time": "2022-08-21T13:07:44.678009",
     "status": "completed"
    },
    "tags": []
   },
   "outputs": [
    {
     "data": {
      "text/plain": [
       "{4, 5, 9}"
      ]
     },
     "execution_count": 52,
     "metadata": {},
     "output_type": "execute_result"
    }
   ],
   "source": [
    "#Intersection\n",
    "common=set1.intersection(set2)\n",
    "common"
   ]
  },
  {
   "cell_type": "code",
   "execution_count": 53,
   "id": "e1d31926",
   "metadata": {
    "execution": {
     "iopub.execute_input": "2022-08-21T13:07:44.773396Z",
     "iopub.status.busy": "2022-08-21T13:07:44.772549Z",
     "iopub.status.idle": "2022-08-21T13:07:44.778996Z",
     "shell.execute_reply": "2022-08-21T13:07:44.778161Z"
    },
    "papermill": {
     "duration": 0.03803,
     "end_time": "2022-08-21T13:07:44.781005",
     "exception": false,
     "start_time": "2022-08-21T13:07:44.742975",
     "status": "completed"
    },
    "tags": []
   },
   "outputs": [
    {
     "data": {
      "text/plain": [
       "{2, 4, 5, 6, 7, 9}"
      ]
     },
     "execution_count": 53,
     "metadata": {},
     "output_type": "execute_result"
    }
   ],
   "source": [
    "#Union\n",
    "all_elem=set1.union(set2)\n",
    "all_elem"
   ]
  },
  {
   "cell_type": "code",
   "execution_count": 54,
   "id": "566e29b3",
   "metadata": {
    "execution": {
     "iopub.execute_input": "2022-08-21T13:07:44.839551Z",
     "iopub.status.busy": "2022-08-21T13:07:44.838743Z",
     "iopub.status.idle": "2022-08-21T13:07:44.845206Z",
     "shell.execute_reply": "2022-08-21T13:07:44.844380Z"
    },
    "papermill": {
     "duration": 0.037856,
     "end_time": "2022-08-21T13:07:44.847199",
     "exception": false,
     "start_time": "2022-08-21T13:07:44.809343",
     "status": "completed"
    },
    "tags": []
   },
   "outputs": [
    {
     "data": {
      "text/plain": [
       "{2, 6, 7}"
      ]
     },
     "execution_count": 54,
     "metadata": {},
     "output_type": "execute_result"
    }
   ],
   "source": [
    "#difference\n",
    "diff=set1.difference(set2) # set1-set2.\n",
    "diff"
   ]
  },
  {
   "cell_type": "code",
   "execution_count": null,
   "id": "32c20e48",
   "metadata": {
    "papermill": {
     "duration": 0.027627,
     "end_time": "2022-08-21T13:07:44.902731",
     "exception": false,
     "start_time": "2022-08-21T13:07:44.875104",
     "status": "completed"
    },
    "tags": []
   },
   "outputs": [],
   "source": []
  },
  {
   "cell_type": "markdown",
   "id": "77150f3b",
   "metadata": {
    "papermill": {
     "duration": 0.027007,
     "end_time": "2022-08-21T13:07:44.957479",
     "exception": false,
     "start_time": "2022-08-21T13:07:44.930472",
     "status": "completed"
    },
    "tags": []
   },
   "source": [
    "<a id=\"content11\"></a>\n",
    "## 11. Hashmaps\n",
    "\n",
    "Let's move onto our final DS now: **hashmaps**. \n",
    "\n",
    "We can simply use the dictinary in python. Also note that a hashmap is often required to store counts of various items like strings, numbers etc. in python we can use a **Counter** object for that!"
   ]
  },
  {
   "cell_type": "code",
   "execution_count": 55,
   "id": "48cf7258",
   "metadata": {
    "execution": {
     "iopub.execute_input": "2022-08-21T13:07:45.016107Z",
     "iopub.status.busy": "2022-08-21T13:07:45.015310Z",
     "iopub.status.idle": "2022-08-21T13:07:45.020155Z",
     "shell.execute_reply": "2022-08-21T13:07:45.019106Z"
    },
    "papermill": {
     "duration": 0.036846,
     "end_time": "2022-08-21T13:07:45.022662",
     "exception": false,
     "start_time": "2022-08-21T13:07:44.985816",
     "status": "completed"
    },
    "tags": []
   },
   "outputs": [],
   "source": [
    "from collections import Counter"
   ]
  },
  {
   "cell_type": "code",
   "execution_count": 56,
   "id": "ed0b2a35",
   "metadata": {
    "execution": {
     "iopub.execute_input": "2022-08-21T13:07:45.083090Z",
     "iopub.status.busy": "2022-08-21T13:07:45.082232Z",
     "iopub.status.idle": "2022-08-21T13:07:45.088314Z",
     "shell.execute_reply": "2022-08-21T13:07:45.087539Z"
    },
    "papermill": {
     "duration": 0.037483,
     "end_time": "2022-08-21T13:07:45.090296",
     "exception": false,
     "start_time": "2022-08-21T13:07:45.052813",
     "status": "completed"
    },
    "tags": []
   },
   "outputs": [
    {
     "data": {
      "text/plain": [
       "[3, 5, 4, 7, 10, 6, 9, 12]"
      ]
     },
     "execution_count": 56,
     "metadata": {},
     "output_type": "execute_result"
    }
   ],
   "source": [
    "arr"
   ]
  },
  {
   "cell_type": "code",
   "execution_count": 57,
   "id": "5cee0d5f",
   "metadata": {
    "execution": {
     "iopub.execute_input": "2022-08-21T13:07:45.148675Z",
     "iopub.status.busy": "2022-08-21T13:07:45.147782Z",
     "iopub.status.idle": "2022-08-21T13:07:45.154969Z",
     "shell.execute_reply": "2022-08-21T13:07:45.154059Z"
    },
    "papermill": {
     "duration": 0.038826,
     "end_time": "2022-08-21T13:07:45.157033",
     "exception": false,
     "start_time": "2022-08-21T13:07:45.118207",
     "status": "completed"
    },
    "tags": []
   },
   "outputs": [
    {
     "data": {
      "text/plain": [
       "Counter({3: 1, 5: 1, 4: 1, 7: 1, 10: 1, 6: 1, 9: 1, 12: 1})"
      ]
     },
     "execution_count": 57,
     "metadata": {},
     "output_type": "execute_result"
    }
   ],
   "source": [
    "counts=Counter(arr)\n",
    "counts"
   ]
  },
  {
   "cell_type": "code",
   "execution_count": 58,
   "id": "9bdfb65d",
   "metadata": {
    "execution": {
     "iopub.execute_input": "2022-08-21T13:07:45.216073Z",
     "iopub.status.busy": "2022-08-21T13:07:45.215172Z",
     "iopub.status.idle": "2022-08-21T13:07:45.222709Z",
     "shell.execute_reply": "2022-08-21T13:07:45.221573Z"
    },
    "papermill": {
     "duration": 0.039947,
     "end_time": "2022-08-21T13:07:45.224960",
     "exception": false,
     "start_time": "2022-08-21T13:07:45.185013",
     "status": "completed"
    },
    "tags": []
   },
   "outputs": [
    {
     "data": {
      "text/plain": [
       "Counter({'H': 1,\n",
       "         'i': 4,\n",
       "         ' ': 14,\n",
       "         'C': 1,\n",
       "         'a': 3,\n",
       "         'n': 6,\n",
       "         'y': 1,\n",
       "         'o': 5,\n",
       "         'u': 3,\n",
       "         'p': 1,\n",
       "         'l': 2,\n",
       "         'e': 10,\n",
       "         's': 5,\n",
       "         'c': 5,\n",
       "         't': 7,\n",
       "         'h': 3,\n",
       "         'f': 1,\n",
       "         'm': 1,\n",
       "         'r': 2})"
      ]
     },
     "execution_count": 58,
     "metadata": {},
     "output_type": "execute_result"
    }
   ],
   "source": [
    "string='Hi Can you please count the no of times each letter occurs in this sentecne'\n",
    "counts_str=Counter(string)\n",
    "counts_str"
   ]
  },
  {
   "cell_type": "code",
   "execution_count": null,
   "id": "159c8890",
   "metadata": {
    "papermill": {
     "duration": 0.028876,
     "end_time": "2022-08-21T13:07:45.283338",
     "exception": false,
     "start_time": "2022-08-21T13:07:45.254462",
     "status": "completed"
    },
    "tags": []
   },
   "outputs": [],
   "source": []
  },
  {
   "cell_type": "markdown",
   "id": "8617e902",
   "metadata": {
    "papermill": {
     "duration": 0.028019,
     "end_time": "2022-08-21T13:07:45.418668",
     "exception": false,
     "start_time": "2022-08-21T13:07:45.390649",
     "status": "completed"
    },
    "tags": []
   },
   "source": [
    "#### Some useful methods on counter object in python"
   ]
  },
  {
   "cell_type": "markdown",
   "id": "00e5da3b",
   "metadata": {
    "papermill": {
     "duration": 0.027627,
     "end_time": "2022-08-21T13:07:45.474627",
     "exception": false,
     "start_time": "2022-08-21T13:07:45.447000",
     "status": "completed"
    },
    "tags": []
   },
   "source": [
    "**Sorting a counter object**"
   ]
  },
  {
   "cell_type": "code",
   "execution_count": 59,
   "id": "59429bfe",
   "metadata": {
    "execution": {
     "iopub.execute_input": "2022-08-21T13:07:45.533321Z",
     "iopub.status.busy": "2022-08-21T13:07:45.532069Z",
     "iopub.status.idle": "2022-08-21T13:07:45.540677Z",
     "shell.execute_reply": "2022-08-21T13:07:45.539842Z"
    },
    "papermill": {
     "duration": 0.040164,
     "end_time": "2022-08-21T13:07:45.542754",
     "exception": false,
     "start_time": "2022-08-21T13:07:45.502590",
     "status": "completed"
    },
    "tags": []
   },
   "outputs": [
    {
     "data": {
      "text/plain": [
       "[(' ', 14),\n",
       " ('e', 10),\n",
       " ('t', 7),\n",
       " ('n', 6),\n",
       " ('o', 5),\n",
       " ('s', 5),\n",
       " ('c', 5),\n",
       " ('i', 4),\n",
       " ('a', 3),\n",
       " ('u', 3),\n",
       " ('h', 3),\n",
       " ('l', 2),\n",
       " ('r', 2),\n",
       " ('H', 1),\n",
       " ('C', 1),\n",
       " ('y', 1),\n",
       " ('p', 1),\n",
       " ('f', 1),\n",
       " ('m', 1)]"
      ]
     },
     "execution_count": 59,
     "metadata": {},
     "output_type": "execute_result"
    }
   ],
   "source": [
    "import operator\n",
    "\n",
    "# BOTH OF THESE WAYS WORKS!!!\n",
    "#counts_str=sorted(counts_str.items(),key=operator.itemgetter(1))\n",
    "counts=sorted(counts_str.items(),key=lambda kv:kv[1],reverse=True) # Use 0 to sort by 'key'\n",
    "counts"
   ]
  },
  {
   "cell_type": "markdown",
   "id": "b560ab04",
   "metadata": {
    "papermill": {
     "duration": 0.027699,
     "end_time": "2022-08-21T13:07:45.599083",
     "exception": false,
     "start_time": "2022-08-21T13:07:45.571384",
     "status": "completed"
    },
    "tags": []
   },
   "source": [
    "**Top k most frequent keys**"
   ]
  },
  {
   "cell_type": "code",
   "execution_count": 60,
   "id": "5ceb0730",
   "metadata": {
    "execution": {
     "iopub.execute_input": "2022-08-21T13:07:45.657746Z",
     "iopub.status.busy": "2022-08-21T13:07:45.656878Z",
     "iopub.status.idle": "2022-08-21T13:07:45.663849Z",
     "shell.execute_reply": "2022-08-21T13:07:45.663021Z"
    },
    "papermill": {
     "duration": 0.039002,
     "end_time": "2022-08-21T13:07:45.666340",
     "exception": false,
     "start_time": "2022-08-21T13:07:45.627338",
     "status": "completed"
    },
    "tags": []
   },
   "outputs": [
    {
     "data": {
      "text/plain": [
       "Counter({'H': 1,\n",
       "         'i': 4,\n",
       "         ' ': 14,\n",
       "         'C': 1,\n",
       "         'a': 3,\n",
       "         'n': 6,\n",
       "         'y': 1,\n",
       "         'o': 5,\n",
       "         'u': 3,\n",
       "         'p': 1,\n",
       "         'l': 2,\n",
       "         'e': 10,\n",
       "         's': 5,\n",
       "         'c': 5,\n",
       "         't': 7,\n",
       "         'h': 3,\n",
       "         'f': 1,\n",
       "         'm': 1,\n",
       "         'r': 2})"
      ]
     },
     "execution_count": 60,
     "metadata": {},
     "output_type": "execute_result"
    }
   ],
   "source": [
    "counts_str"
   ]
  },
  {
   "cell_type": "code",
   "execution_count": 61,
   "id": "cf2f05a3",
   "metadata": {
    "execution": {
     "iopub.execute_input": "2022-08-21T13:07:45.728650Z",
     "iopub.status.busy": "2022-08-21T13:07:45.728140Z",
     "iopub.status.idle": "2022-08-21T13:07:45.735143Z",
     "shell.execute_reply": "2022-08-21T13:07:45.734316Z"
    },
    "papermill": {
     "duration": 0.040087,
     "end_time": "2022-08-21T13:07:45.737185",
     "exception": false,
     "start_time": "2022-08-21T13:07:45.697098",
     "status": "completed"
    },
    "tags": []
   },
   "outputs": [
    {
     "data": {
      "text/plain": [
       "[(' ', 14), ('e', 10), ('t', 7)]"
      ]
     },
     "execution_count": 61,
     "metadata": {},
     "output_type": "execute_result"
    }
   ],
   "source": [
    "k=3\n",
    "topk=counts_str.most_common(k)\n",
    "topk"
   ]
  },
  {
   "cell_type": "markdown",
   "id": "7d39575a",
   "metadata": {
    "papermill": {
     "duration": 0.057496,
     "end_time": "2022-08-21T13:07:45.823441",
     "exception": false,
     "start_time": "2022-08-21T13:07:45.765945",
     "status": "completed"
    },
    "tags": []
   },
   "source": [
    "**Converting to List**\n"
   ]
  },
  {
   "cell_type": "code",
   "execution_count": 62,
   "id": "335f6a24",
   "metadata": {
    "execution": {
     "iopub.execute_input": "2022-08-21T13:07:45.883521Z",
     "iopub.status.busy": "2022-08-21T13:07:45.882677Z",
     "iopub.status.idle": "2022-08-21T13:07:45.890397Z",
     "shell.execute_reply": "2022-08-21T13:07:45.889517Z"
    },
    "papermill": {
     "duration": 0.039873,
     "end_time": "2022-08-21T13:07:45.892411",
     "exception": false,
     "start_time": "2022-08-21T13:07:45.852538",
     "status": "completed"
    },
    "tags": []
   },
   "outputs": [
    {
     "data": {
      "text/plain": [
       "['H',\n",
       " 'i',\n",
       " 'i',\n",
       " 'i',\n",
       " 'i',\n",
       " ' ',\n",
       " ' ',\n",
       " ' ',\n",
       " ' ',\n",
       " ' ',\n",
       " ' ',\n",
       " ' ',\n",
       " ' ',\n",
       " ' ',\n",
       " ' ',\n",
       " ' ',\n",
       " ' ',\n",
       " ' ',\n",
       " ' ',\n",
       " 'C',\n",
       " 'a',\n",
       " 'a',\n",
       " 'a',\n",
       " 'n',\n",
       " 'n',\n",
       " 'n',\n",
       " 'n',\n",
       " 'n',\n",
       " 'n',\n",
       " 'y',\n",
       " 'o',\n",
       " 'o',\n",
       " 'o',\n",
       " 'o',\n",
       " 'o',\n",
       " 'u',\n",
       " 'u',\n",
       " 'u',\n",
       " 'p',\n",
       " 'l',\n",
       " 'l',\n",
       " 'e',\n",
       " 'e',\n",
       " 'e',\n",
       " 'e',\n",
       " 'e',\n",
       " 'e',\n",
       " 'e',\n",
       " 'e',\n",
       " 'e',\n",
       " 'e',\n",
       " 's',\n",
       " 's',\n",
       " 's',\n",
       " 's',\n",
       " 's',\n",
       " 'c',\n",
       " 'c',\n",
       " 'c',\n",
       " 'c',\n",
       " 'c',\n",
       " 't',\n",
       " 't',\n",
       " 't',\n",
       " 't',\n",
       " 't',\n",
       " 't',\n",
       " 't',\n",
       " 'h',\n",
       " 'h',\n",
       " 'h',\n",
       " 'f',\n",
       " 'm',\n",
       " 'r',\n",
       " 'r']"
      ]
     },
     "execution_count": 62,
     "metadata": {},
     "output_type": "execute_result"
    }
   ],
   "source": [
    "letters=list(counts_str.elements())\n",
    "letters"
   ]
  },
  {
   "cell_type": "code",
   "execution_count": null,
   "id": "f8e73c6e",
   "metadata": {
    "papermill": {
     "duration": 0.029563,
     "end_time": "2022-08-21T13:07:45.950797",
     "exception": false,
     "start_time": "2022-08-21T13:07:45.921234",
     "status": "completed"
    },
    "tags": []
   },
   "outputs": [],
   "source": []
  },
  {
   "cell_type": "markdown",
   "id": "14871dee",
   "metadata": {
    "papermill": {
     "duration": 0.028968,
     "end_time": "2022-08-21T13:07:46.008786",
     "exception": false,
     "start_time": "2022-08-21T13:07:45.979818",
     "status": "completed"
    },
    "tags": []
   },
   "source": [
    "**Arithmetic Operations on Counters**.\n",
    "\n",
    "\n",
    "Note that this is also supported."
   ]
  },
  {
   "cell_type": "code",
   "execution_count": 63,
   "id": "0bb3240c",
   "metadata": {
    "execution": {
     "iopub.execute_input": "2022-08-21T13:07:46.068752Z",
     "iopub.status.busy": "2022-08-21T13:07:46.067954Z",
     "iopub.status.idle": "2022-08-21T13:07:46.073198Z",
     "shell.execute_reply": "2022-08-21T13:07:46.072265Z"
    },
    "papermill": {
     "duration": 0.037878,
     "end_time": "2022-08-21T13:07:46.075333",
     "exception": false,
     "start_time": "2022-08-21T13:07:46.037455",
     "status": "completed"
    },
    "tags": []
   },
   "outputs": [],
   "source": [
    "counter1=Counter([1,2,2,3,1,1,3])\n",
    "counter2=Counter([4,4,5,6,6,2,1,3])"
   ]
  },
  {
   "cell_type": "code",
   "execution_count": 64,
   "id": "4cbd911a",
   "metadata": {
    "execution": {
     "iopub.execute_input": "2022-08-21T13:07:46.135731Z",
     "iopub.status.busy": "2022-08-21T13:07:46.134925Z",
     "iopub.status.idle": "2022-08-21T13:07:46.141333Z",
     "shell.execute_reply": "2022-08-21T13:07:46.140540Z"
    },
    "papermill": {
     "duration": 0.038887,
     "end_time": "2022-08-21T13:07:46.143417",
     "exception": false,
     "start_time": "2022-08-21T13:07:46.104530",
     "status": "completed"
    },
    "tags": []
   },
   "outputs": [
    {
     "data": {
      "text/plain": [
       "Counter({1: 4, 2: 3, 3: 3, 4: 2, 5: 1, 6: 2})"
      ]
     },
     "execution_count": 64,
     "metadata": {},
     "output_type": "execute_result"
    }
   ],
   "source": [
    "#sum\n",
    "counter1+counter2"
   ]
  },
  {
   "cell_type": "code",
   "execution_count": 65,
   "id": "e821d5cf",
   "metadata": {
    "execution": {
     "iopub.execute_input": "2022-08-21T13:07:46.204337Z",
     "iopub.status.busy": "2022-08-21T13:07:46.203477Z",
     "iopub.status.idle": "2022-08-21T13:07:46.210271Z",
     "shell.execute_reply": "2022-08-21T13:07:46.209145Z"
    },
    "papermill": {
     "duration": 0.039904,
     "end_time": "2022-08-21T13:07:46.212761",
     "exception": false,
     "start_time": "2022-08-21T13:07:46.172857",
     "status": "completed"
    },
    "tags": []
   },
   "outputs": [
    {
     "data": {
      "text/plain": [
       "Counter({1: 2, 2: 1, 3: 1})"
      ]
     },
     "execution_count": 65,
     "metadata": {},
     "output_type": "execute_result"
    }
   ],
   "source": [
    "#difference\n",
    "counter1-counter2"
   ]
  },
  {
   "cell_type": "code",
   "execution_count": null,
   "id": "fb221562",
   "metadata": {
    "papermill": {
     "duration": 0.028762,
     "end_time": "2022-08-21T13:07:46.270748",
     "exception": false,
     "start_time": "2022-08-21T13:07:46.241986",
     "status": "completed"
    },
    "tags": []
   },
   "outputs": [],
   "source": []
  },
  {
   "cell_type": "markdown",
   "id": "302b0ad0",
   "metadata": {
    "papermill": {
     "duration": 0.028501,
     "end_time": "2022-08-21T13:07:46.328082",
     "exception": false,
     "start_time": "2022-08-21T13:07:46.299581",
     "status": "completed"
    },
    "tags": []
   },
   "source": [
    "## Link to other kernels in the series:\n",
    "\n",
    "i. [Pandas: A Complete Pandas Tutorial](https://www.kaggle.com/code/rajmehra03/a-complete-pandas-tutorial)\n",
    "\n",
    "ii. [Numpy: A Complete Guide to Numpy](https://www.kaggle.com/code/rajmehra03/a-complete-guide-to-numpy/)"
   ]
  },
  {
   "cell_type": "code",
   "execution_count": null,
   "id": "2e1ce9dd",
   "metadata": {
    "papermill": {
     "duration": 0.028488,
     "end_time": "2022-08-21T13:07:46.385617",
     "exception": false,
     "start_time": "2022-08-21T13:07:46.357129",
     "status": "completed"
    },
    "tags": []
   },
   "outputs": [],
   "source": []
  },
  {
   "cell_type": "code",
   "execution_count": null,
   "id": "2f550b60",
   "metadata": {
    "papermill": {
     "duration": 0.028707,
     "end_time": "2022-08-21T13:07:46.443050",
     "exception": false,
     "start_time": "2022-08-21T13:07:46.414343",
     "status": "completed"
    },
    "tags": []
   },
   "outputs": [],
   "source": []
  },
  {
   "cell_type": "markdown",
   "id": "62472d33",
   "metadata": {
    "papermill": {
     "duration": 0.028617,
     "end_time": "2022-08-21T13:07:46.500343",
     "exception": false,
     "start_time": "2022-08-21T13:07:46.471726",
     "status": "completed"
    },
    "tags": []
   },
   "source": [
    "## Rough"
   ]
  },
  {
   "cell_type": "code",
   "execution_count": 66,
   "id": "e1828bfb",
   "metadata": {
    "execution": {
     "iopub.execute_input": "2022-08-21T13:07:46.560217Z",
     "iopub.status.busy": "2022-08-21T13:07:46.559709Z",
     "iopub.status.idle": "2022-08-21T13:07:46.566929Z",
     "shell.execute_reply": "2022-08-21T13:07:46.566114Z"
    },
    "papermill": {
     "duration": 0.039384,
     "end_time": "2022-08-21T13:07:46.568919",
     "exception": false,
     "start_time": "2022-08-21T13:07:46.529535",
     "status": "completed"
    },
    "tags": []
   },
   "outputs": [
    {
     "data": {
      "text/plain": [
       "([10, 11], [10, 11])"
      ]
     },
     "execution_count": 66,
     "metadata": {},
     "output_type": "execute_result"
    }
   ],
   "source": [
    "a=[10]\n",
    "b=a\n",
    "b.append(11)\n",
    "a,b # interesting!"
   ]
  },
  {
   "cell_type": "code",
   "execution_count": 67,
   "id": "fbfbf78f",
   "metadata": {
    "execution": {
     "iopub.execute_input": "2022-08-21T13:07:46.629468Z",
     "iopub.status.busy": "2022-08-21T13:07:46.628547Z",
     "iopub.status.idle": "2022-08-21T13:07:46.635770Z",
     "shell.execute_reply": "2022-08-21T13:07:46.634695Z"
    },
    "papermill": {
     "duration": 0.039975,
     "end_time": "2022-08-21T13:07:46.637932",
     "exception": false,
     "start_time": "2022-08-21T13:07:46.597957",
     "status": "completed"
    },
    "tags": []
   },
   "outputs": [
    {
     "data": {
      "text/plain": [
       "9223372036854775807"
      ]
     },
     "execution_count": 67,
     "metadata": {},
     "output_type": "execute_result"
    }
   ],
   "source": [
    "import sys\n",
    "sys.maxsize"
   ]
  },
  {
   "cell_type": "code",
   "execution_count": null,
   "id": "59320a83",
   "metadata": {
    "papermill": {
     "duration": 0.028596,
     "end_time": "2022-08-21T13:07:46.695747",
     "exception": false,
     "start_time": "2022-08-21T13:07:46.667151",
     "status": "completed"
    },
    "tags": []
   },
   "outputs": [],
   "source": []
  }
 ],
 "metadata": {
  "kernelspec": {
   "display_name": "Python 3",
   "language": "python",
   "name": "python3"
  },
  "language_info": {
   "codemirror_mode": {
    "name": "ipython",
    "version": 3
   },
   "file_extension": ".py",
   "mimetype": "text/x-python",
   "name": "python",
   "nbconvert_exporter": "python",
   "pygments_lexer": "ipython3",
   "version": "3.7.12"
  },
  "papermill": {
   "default_parameters": {},
   "duration": 18.113328,
   "end_time": "2022-08-21T13:07:47.648115",
   "environment_variables": {},
   "exception": null,
   "input_path": "__notebook__.ipynb",
   "output_path": "__notebook__.ipynb",
   "parameters": {},
   "start_time": "2022-08-21T13:07:29.534787",
   "version": "2.3.4"
  }
 },
 "nbformat": 4,
 "nbformat_minor": 5
}
