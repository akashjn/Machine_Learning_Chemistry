{
 "cells": [
  {
   "cell_type": "code",
   "execution_count": 50,
   "metadata": {},
   "outputs": [],
   "source": [
    "# from mp_api import MPRester"
   ]
  },
  {
   "cell_type": "code",
   "execution_count": 51,
   "metadata": {},
   "outputs": [],
   "source": [
    "api_key=\"IKVm5sukSp8GT9DSFlPnFTH1iIEgfP4m\""
   ]
  },
  {
   "cell_type": "code",
   "execution_count": 52,
   "metadata": {},
   "outputs": [],
   "source": [
    "import  pymatgen.core as mg"
   ]
  },
  {
   "cell_type": "code",
   "execution_count": 53,
   "metadata": {},
   "outputs": [],
   "source": [
    "si=mg.Element(\"Si\")"
   ]
  },
  {
   "cell_type": "code",
   "execution_count": 54,
   "metadata": {},
   "outputs": [],
   "source": [
    "from pymatgen.ext.matproj import MPRester"
   ]
  },
  {
   "cell_type": "code",
   "execution_count": 59,
   "metadata": {},
   "outputs": [
    {
     "name": "stdout",
     "output_type": "stream",
     "text": [
      "Exact TaC Formula matches are:\n",
      "mpr.get_materials_ids('TaC')=['mp-1009835', 'mp-1009832', 'mp-1086', 'mp-1009817'] \n",
      "\n",
      "All compounds in the Ta-C system are:\n",
      "mpr.get_materials_ids('Ta-C')=['mp-611448', 'mp-1097832', 'mp-1205283', 'mp-24', 'mp-1078845', 'mp-1244913', 'mp-1008374', 'mp-579909', 'mp-1181996', 'mp-1194362', 'mp-1188817', 'mp-1182684', 'mp-1197903', 'mp-568286', 'mp-683919', 'mp-1008395', 'mp-569416', 'mp-568806', 'mp-606949', 'mp-611426', 'mp-1147718', 'mp-570002', 'mp-616440', 'mp-1018088', 'mp-1040425', 'mp-937760', 'mp-990448', 'mp-1096869', 'mp-568028', 'mp-66', 'mp-997182', 'mp-1080826', 'mp-1203645', 'mp-1182029', 'mp-998866', 'mp-47', 'mp-630227', 'mp-1205417', 'mp-1244964', 'mp-569517', 'mp-1095534', 'mp-1196583', 'mp-680372', 'mp-169', 'mp-624889', 'mp-1245190', 'mp-667273', 'mp-568363', 'mp-1056957', 'mp-569304', 'mp-568410', 'mp-569567', 'mp-48', 'mp-1095633', 'mp-632329', 'mp-990424', 'mp-1190171', 'mp-1192619', 'mp-1009835', 'mp-1025192', 'mp-1009832', 'mp-1218120', 'mp-1218000', 'mp-1086', 'mp-7088', 'mp-1009817', 'mp-1187218', 'mp-6986', 'mp-569794', 'mp-42', 'mp-1076923', 'mp-50', 'mp-697196', 'mp-1217756', 'mp-1095086']\n"
     ]
    }
   ],
   "source": [
    "with  MPRester() as mpr:\n",
    "    print(\"Exact TaC Formula matches are:\")\n",
    "    print(f\"mpr.get_materials_ids('TaC')={mpr.get_materials_ids('TaC')} \\n\")\n",
    "    print(\"All compounds in the Ta-C system are:\")\n",
    "    print(f\"mpr.get_materials_ids('Ta-C')={mpr.get_materials_ids('Ta-C')}\")"
   ]
  },
  {
   "cell_type": "code",
   "execution_count": null,
   "metadata": {},
   "outputs": [],
   "source": []
  }
 ],
 "metadata": {
  "kernelspec": {
   "display_name": "Python 3.10.4 ('my_pymatgen')",
   "language": "python",
   "name": "python3"
  },
  "language_info": {
   "codemirror_mode": {
    "name": "ipython",
    "version": 3
   },
   "file_extension": ".py",
   "mimetype": "text/x-python",
   "name": "python",
   "nbconvert_exporter": "python",
   "pygments_lexer": "ipython3",
   "version": "3.10.4"
  },
  "orig_nbformat": 4,
  "vscode": {
   "interpreter": {
    "hash": "6f2dcad2d69db7a038c2688dbf5739db1de71ea2d805dad131fcf86546f4737e"
   }
  }
 },
 "nbformat": 4,
 "nbformat_minor": 2
}
