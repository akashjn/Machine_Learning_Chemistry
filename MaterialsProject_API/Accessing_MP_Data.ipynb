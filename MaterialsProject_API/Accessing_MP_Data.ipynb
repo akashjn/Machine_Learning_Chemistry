{
 "cells": [
  {
   "cell_type": "markdown",
   "metadata": {},
   "source": [
    "# Get the personal api_key"
   ]
  },
  {
   "cell_type": "code",
   "execution_count": 183,
   "metadata": {},
   "outputs": [],
   "source": [
    "akash_api_key=\"IKVm5sukSp8GT9DSFlPnFTH1iIEgfP4m\""
   ]
  },
  {
   "cell_type": "code",
   "execution_count": 184,
   "metadata": {},
   "outputs": [],
   "source": [
    "MP_API_KEY=akash_api_key\n",
    "\n",
    "import os\n",
    "MP_API_KEY=os.environ.get(\"MP_API_KEY\")"
   ]
  },
  {
   "cell_type": "code",
   "execution_count": 185,
   "metadata": {},
   "outputs": [],
   "source": [
    "from mp_api import MPRester"
   ]
  },
  {
   "cell_type": "code",
   "execution_count": 186,
   "metadata": {},
   "outputs": [
    {
     "name": "stderr",
     "output_type": "stream",
     "text": [
      "c:\\Users\\jaina\\Anaconda3\\envs\\my_pymatgen\\lib\\site-packages\\mp_api\\client.py:139: builtins.UserWarning: Problem loading MPContribs client: [<twisted.python.failure.Failure OpenSSL.SSL.Error: [('SSL routines', 'tls_process_server_certificate', 'certificate verify failed')]>]\n",
      "Retrieving SummaryDoc documents: 100%|██████████| 1/1 [00:00<?, ?it/s]\n"
     ]
    }
   ],
   "source": [
    "with MPRester(akash_api_key) as mpr:\n",
    "    doc = mpr.summary.get_data_by_id(\"mp-149\")"
   ]
  },
  {
   "cell_type": "code",
   "execution_count": 187,
   "metadata": {},
   "outputs": [],
   "source": [
    "mpid = doc.material_id\n",
    "formula = doc.formula_pretty"
   ]
  },
  {
   "cell_type": "code",
   "execution_count": 188,
   "metadata": {},
   "outputs": [
    {
     "name": "stdout",
     "output_type": "stream",
     "text": [
      "mpid=mp-149\n",
      "formula=Si\n"
     ]
    }
   ],
   "source": [
    "print(f\"mpid={mpid}\")\n",
    "print(f\"formula={formula}\")"
   ]
  },
  {
   "cell_type": "code",
   "execution_count": 189,
   "metadata": {},
   "outputs": [
    {
     "name": "stdout",
     "output_type": "stream",
     "text": [
      "['builder_meta', 'nsites', 'elements', 'nelements', 'composition', 'composition_reduced', 'formula_pretty', 'formula_anonymous', 'chemsys', 'volume', 'density', 'density_atomic', 'symmetry', 'property_name', 'material_id', 'deprecated', 'deprecation_reasons', 'last_updated', 'origins', 'warnings', 'structure', 'task_ids', 'uncorrected_energy_per_atom', 'energy_per_atom', 'formation_energy_per_atom', 'energy_above_hull', 'is_stable', 'equilibrium_reaction_energy_per_atom', 'decomposes_to', 'xas', 'grain_boundaries', 'band_gap', 'cbm', 'vbm', 'efermi', 'is_gap_direct', 'is_metal', 'es_source_calc_id', 'bandstructure', 'dos', 'dos_energy_up', 'dos_energy_down', 'is_magnetic', 'ordering', 'total_magnetization', 'total_magnetization_normalized_vol', 'total_magnetization_normalized_formula_units', 'num_magnetic_sites', 'num_unique_magnetic_sites', 'types_of_magnetic_species', 'k_voigt', 'k_reuss', 'k_vrh', 'g_voigt', 'g_reuss', 'g_vrh', 'universal_anisotropy', 'homogeneous_poisson', 'e_total', 'e_ionic', 'e_electronic', 'n', 'e_ij_max', 'weighted_surface_energy_EV_PER_ANG2', 'weighted_surface_energy', 'weighted_work_function', 'surface_anisotropy', 'shape_factor', 'has_reconstructed', 'possible_species', 'has_props', 'theoretical']\n"
     ]
    }
   ],
   "source": [
    "list_of_available_fields = mpr.summary.available_fields\n",
    "print(list_of_available_fields)"
   ]
  },
  {
   "cell_type": "code",
   "execution_count": 190,
   "metadata": {},
   "outputs": [
    {
     "name": "stderr",
     "output_type": "stream",
     "text": [
      "Retrieving SummaryDoc documents: 100%|██████████| 332/332 [00:00<?, ?it/s]\n"
     ]
    }
   ],
   "source": [
    "with MPRester(akash_api_key) as mpr:\n",
    "    docs = mpr.summary.search(elements=[\"Si\", \"O\"],band_gap=(0.5, 1.0))"
   ]
  },
  {
   "cell_type": "code",
   "execution_count": 191,
   "metadata": {},
   "outputs": [
    {
     "name": "stderr",
     "output_type": "stream",
     "text": [
      "Retrieving SummaryDoc documents: 100%|██████████| 332/332 [00:00<?, ?it/s]\n"
     ]
    }
   ],
   "source": [
    "with MPRester(akash_api_key) as mpr:\n",
    "    docs = mpr.summary.search(elements=[\"Si\", \"O\"],band_gap=(0.5, 1.0),fields=[\"material_id\",'formula_pretty',\"band_gap\",\"volume\"])"
   ]
  },
  {
   "cell_type": "code",
   "execution_count": 192,
   "metadata": {},
   "outputs": [
    {
     "data": {
      "text/plain": [
       "\u001b[4m\u001b[1mMPDataDoc<SummaryDoc>\u001b[0;0m\u001b[0;0m(\n",
       "\u001b[1mformula_pretty\u001b[0;0m='MgMnSiO5',\n",
       "\u001b[1mvolume\u001b[0;0m=335.4257708908094,\n",
       "\u001b[1mmaterial_id\u001b[0;0m=MPID(mp-1293053),\n",
       "\u001b[1mband_gap\u001b[0;0m=0.9419,\n",
       "\u001b[1mfields_not_requested\u001b[0;0m=['builder_meta', 'nsites', 'elements', 'nelements', 'composition', 'composition_reduced', 'formula_anonymous', 'chemsys', 'density', 'density_atomic', 'symmetry', 'property_name', 'deprecated', 'deprecation_reasons', 'last_updated', 'origins', 'warnings', 'structure', 'task_ids', 'uncorrected_energy_per_atom', 'energy_per_atom', 'formation_energy_per_atom', 'energy_above_hull', 'is_stable', 'equilibrium_reaction_energy_per_atom', 'decomposes_to', 'xas', 'grain_boundaries', 'cbm', 'vbm', 'efermi', 'is_gap_direct', 'is_metal', 'es_source_calc_id', 'bandstructure', 'dos', 'dos_energy_up', 'dos_energy_down', 'is_magnetic', 'ordering', 'total_magnetization', 'total_magnetization_normalized_vol', 'total_magnetization_normalized_formula_units', 'num_magnetic_sites', 'num_unique_magnetic_sites', 'types_of_magnetic_species', 'k_voigt', 'k_reuss', 'k_vrh', 'g_voigt', 'g_reuss', 'g_vrh', 'universal_anisotropy', 'homogeneous_poisson', 'e_total', 'e_ionic', 'e_electronic', 'n', 'e_ij_max', 'weighted_surface_energy_EV_PER_ANG2', 'weighted_surface_energy', 'weighted_work_function', 'surface_anisotropy', 'shape_factor', 'has_reconstructed', 'possible_species', 'has_props', 'theoretical']\n",
       ")"
      ]
     },
     "execution_count": 192,
     "metadata": {},
     "output_type": "execute_result"
    }
   ],
   "source": [
    "docs[0]"
   ]
  },
  {
   "cell_type": "code",
   "execution_count": 193,
   "metadata": {},
   "outputs": [
    {
     "data": {
      "text/plain": [
       "['builder_meta',\n",
       " 'nsites',\n",
       " 'elements',\n",
       " 'nelements',\n",
       " 'composition',\n",
       " 'composition_reduced',\n",
       " 'formula_anonymous',\n",
       " 'chemsys',\n",
       " 'density',\n",
       " 'density_atomic',\n",
       " 'symmetry',\n",
       " 'property_name',\n",
       " 'deprecated',\n",
       " 'deprecation_reasons',\n",
       " 'last_updated',\n",
       " 'origins',\n",
       " 'warnings',\n",
       " 'structure',\n",
       " 'task_ids',\n",
       " 'uncorrected_energy_per_atom',\n",
       " 'energy_per_atom',\n",
       " 'formation_energy_per_atom',\n",
       " 'energy_above_hull',\n",
       " 'is_stable',\n",
       " 'equilibrium_reaction_energy_per_atom',\n",
       " 'decomposes_to',\n",
       " 'xas',\n",
       " 'grain_boundaries',\n",
       " 'cbm',\n",
       " 'vbm',\n",
       " 'efermi',\n",
       " 'is_gap_direct',\n",
       " 'is_metal',\n",
       " 'es_source_calc_id',\n",
       " 'bandstructure',\n",
       " 'dos',\n",
       " 'dos_energy_up',\n",
       " 'dos_energy_down',\n",
       " 'is_magnetic',\n",
       " 'ordering',\n",
       " 'total_magnetization',\n",
       " 'total_magnetization_normalized_vol',\n",
       " 'total_magnetization_normalized_formula_units',\n",
       " 'num_magnetic_sites',\n",
       " 'num_unique_magnetic_sites',\n",
       " 'types_of_magnetic_species',\n",
       " 'k_voigt',\n",
       " 'k_reuss',\n",
       " 'k_vrh',\n",
       " 'g_voigt',\n",
       " 'g_reuss',\n",
       " 'g_vrh',\n",
       " 'universal_anisotropy',\n",
       " 'homogeneous_poisson',\n",
       " 'e_total',\n",
       " 'e_ionic',\n",
       " 'e_electronic',\n",
       " 'n',\n",
       " 'e_ij_max',\n",
       " 'weighted_surface_energy_EV_PER_ANG2',\n",
       " 'weighted_surface_energy',\n",
       " 'weighted_work_function',\n",
       " 'surface_anisotropy',\n",
       " 'shape_factor',\n",
       " 'has_reconstructed',\n",
       " 'possible_species',\n",
       " 'has_props',\n",
       " 'theoretical']"
      ]
     },
     "execution_count": 193,
     "metadata": {},
     "output_type": "execute_result"
    }
   ],
   "source": [
    "example_doc = docs[0]\n",
    "\n",
    "mpid = example_doc.material_id       # a Materials Project ID\n",
    "formula = example_doc.formula_pretty # a formula\n",
    "volume = example_doc.volume          # a volume\n",
    "\n",
    "example_doc.fields_not_requested     # list of unrequested fields"
   ]
  },
  {
   "cell_type": "code",
   "execution_count": 194,
   "metadata": {},
   "outputs": [
    {
     "data": {
      "text/plain": [
       "(MPID(mp-1293053), 'MgMnSiO5', 335.4257708908094)"
      ]
     },
     "execution_count": 194,
     "metadata": {},
     "output_type": "execute_result"
    }
   ],
   "source": [
    "mpid,formula,volume"
   ]
  },
  {
   "cell_type": "code",
   "execution_count": 195,
   "metadata": {},
   "outputs": [
    {
     "name": "stderr",
     "output_type": "stream",
     "text": [
      "Retrieving MaterialsDoc documents: 100%|██████████| 1/1 [00:00<?, ?it/s]\n"
     ]
    }
   ],
   "source": [
    "with MPRester(akash_api_key) as mpr:\n",
    "    doc = mpr.materials.get_data_by_id(\"mp-149\", fields=[\"initial_structures\"])\n",
    "\n",
    "initial_structures = doc.initial_structures"
   ]
  },
  {
   "cell_type": "code",
   "execution_count": 196,
   "metadata": {},
   "outputs": [
    {
     "data": {
      "text/plain": [
       "[Structure Summary\n",
       " Lattice\n",
       "     abc : 3.867551652398194 3.867551652398194 3.867551652398194\n",
       "  angles : 60.00000000000001 60.00000000000001 60.00000000000001\n",
       "  volume : 40.906598655233736\n",
       "       A : 0.0 2.734772 2.734772\n",
       "       B : 2.734772 0.0 2.734772\n",
       "       C : 2.734772 2.734772 0.0\n",
       " PeriodicSite: Si (0.0000, 0.0000, 0.0000) [0.0000, 0.0000, 0.0000]\n",
       " PeriodicSite: Si (1.3674, 1.3674, 1.3674) [0.2500, 0.2500, 0.2500]]"
      ]
     },
     "execution_count": 196,
     "metadata": {},
     "output_type": "execute_result"
    }
   ],
   "source": [
    "initial_structures"
   ]
  },
  {
   "cell_type": "code",
   "execution_count": 210,
   "metadata": {},
   "outputs": [
    {
     "name": "stderr",
     "output_type": "stream",
     "text": [
      "c:\\Users\\jaina\\Anaconda3\\envs\\my_pymatgen\\lib\\site-packages\\mp_api\\client.py:139: builtins.UserWarning: Problem loading MPContribs client: [<twisted.python.failure.Failure OpenSSL.SSL.Error: [('SSL routines', 'tls_process_server_certificate', 'certificate verify failed')]>]\n",
      "Retrieving SummaryDoc documents: 100%|██████████| 332/332 [00:00<?, ?it/s]\n"
     ]
    }
   ],
   "source": [
    "# with MPRester(akash_api_key) as mpr:\n",
    "#     docs = mpr.materials.search(elements=[\"Si\", \"O\"],fields=[\"initial_structures\"],band_gap=(0.5,1))\n",
    "\n",
    "\n",
    "with MPRester(akash_api_key) as mpr:\n",
    "    docs = mpr.summary.search(elements=[\"Si\", \"O\"],band_gap=(0.5, 1.0),fields=[\"nsites\",\"material_id\", \n",
    "                                      \"band_gap\", \n",
    "                                      \"volume\"])                         \n"
   ]
  },
  {
   "cell_type": "code",
   "execution_count": 211,
   "metadata": {},
   "outputs": [],
   "source": [
    "example_doc = docs[0]"
   ]
  },
  {
   "cell_type": "code",
   "execution_count": 212,
   "metadata": {},
   "outputs": [
    {
     "data": {
      "text/plain": [
       "(32, 0.9419, MPID(mp-1293053), 335.4257708908094)"
      ]
     },
     "execution_count": 212,
     "metadata": {},
     "output_type": "execute_result"
    }
   ],
   "source": [
    "example_doc.nsites,example_doc.band_gap,example_doc.material_id,example_doc.volume"
   ]
  },
  {
   "cell_type": "code",
   "execution_count": 216,
   "metadata": {},
   "outputs": [
    {
     "name": "stderr",
     "output_type": "stream",
     "text": [
      "c:\\Users\\jaina\\Anaconda3\\envs\\my_pymatgen\\lib\\site-packages\\mp_api\\client.py:139: builtins.UserWarning: Problem loading MPContribs client: [<twisted.python.failure.Failure OpenSSL.SSL.Error: [('SSL routines', 'tls_process_server_certificate', 'certificate verify failed')]>]\n",
      "Retrieving MaterialsDoc documents: 100%|██████████| 1/1 [00:00<?, ?it/s]\n",
      "Retrieving MaterialsDoc documents: 100%|██████████| 1/1 [00:00<?, ?it/s]\n",
      "Retrieving SummaryDoc documents: 100%|██████████| 1/1 [00:00<?, ?it/s]\n",
      "Retrieving MaterialsDoc documents: 100%|██████████| 1/1 [00:00<?, ?it/s]\n"
     ]
    }
   ],
   "source": [
    "from mp_api import MPRester\n",
    "\n",
    "with MPRester(akash_api_key) as mpr:\n",
    "    structure = mpr.get_structure_by_material_id(\"mp-149\")\n",
    "    task_ids = mpr.get_task_ids_associated_with_material_id(\"mp-149\")\n",
    "    # -- General search alternative:\n",
    "    doc = mpr.summary.get_data_by_id(\"mp-149\", fields=[\"structure\"])\n",
    "    structure = doc.structure\n",
    "    doc=mpr.materials.get_data_by_id(\"mp-149\",fields=[\"calc_types\"])\n",
    "    task_ids = doc.calc_types.keys()\n",
    "    task_types = doc.calc_types.values()"
   ]
  },
  {
   "cell_type": "code",
   "execution_count": 217,
   "metadata": {},
   "outputs": [
    {
     "data": {
      "text/plain": [
       "Structure Summary\n",
       "Lattice\n",
       "    abc : 3.8669746532647453 3.8669746532647453 3.8669746532647453\n",
       " angles : 59.99999999999999 59.99999999999999 59.99999999999999\n",
       " volume : 40.88829284866483\n",
       "      A : 0.0 2.734364 2.734364\n",
       "      B : 2.734364 0.0 2.734364\n",
       "      C : 2.734364 2.734364 0.0\n",
       "PeriodicSite: Si (1.3672, 1.3672, 1.3672) [0.2500, 0.2500, 0.2500]\n",
       "PeriodicSite: Si (0.0000, 0.0000, 0.0000) [0.0000, 0.0000, 0.0000]"
      ]
     },
     "execution_count": 217,
     "metadata": {},
     "output_type": "execute_result"
    }
   ],
   "source": [
    "structure"
   ]
  },
  {
   "cell_type": "code",
   "execution_count": 218,
   "metadata": {},
   "outputs": [
    {
     "data": {
      "text/plain": [
       "dict_keys(['mp-655585', 'mp-656511', 'mp-655936', 'mp-11721', 'mp-149', 'mp-1057373', 'mp-1057366', 'mp-1057380', 'mp-1059585', 'mp-1059589', 'mp-1059603', 'mp-1120258', 'mp-1120259', 'mp-1141021', 'mp-1248038', 'mp-1249516', 'mp-1267607', 'mp-1440634', 'mp-1686587', 'mp-1791788', 'mp-1594776', 'mp-1592727', 'mp-1059604', 'mp-1057384'])"
      ]
     },
     "execution_count": 218,
     "metadata": {},
     "output_type": "execute_result"
    }
   ],
   "source": [
    "task_ids"
   ]
  },
  {
   "cell_type": "code",
   "execution_count": 219,
   "metadata": {},
   "outputs": [
    {
     "data": {
      "text/plain": [
       "dict_values([<CalcType.GGA_Static: 'GGA Static'>, <CalcType.GGA_NSCF_Line: 'GGA NSCF Line'>, <CalcType.GGA_NSCF_Uniform: 'GGA NSCF Uniform'>, <CalcType.GGA_Structure_Optimization: 'GGA Structure Optimization'>, <CalcType.GGA_Structure_Optimization: 'GGA Structure Optimization'>, <CalcType.GGA_Static: 'GGA Static'>, <CalcType.GGA_Structure_Optimization: 'GGA Structure Optimization'>, <CalcType.GGA_NSCF_Uniform: 'GGA NSCF Uniform'>, <CalcType.GGA_Structure_Optimization: 'GGA Structure Optimization'>, <CalcType.GGA_Static: 'GGA Static'>, <CalcType.GGA_NSCF_Uniform: 'GGA NSCF Uniform'>, <CalcType.GGA_Structure_Optimization: 'GGA Structure Optimization'>, <CalcType.GGA_Structure_Optimization: 'GGA Structure Optimization'>, <CalcType.GGA_DFPT_Dielectric: 'GGA DFPT Dielectric'>, <CalcType.GGA_Structure_Optimization: 'GGA Structure Optimization'>, <CalcType.GGA_NMR_Electric_Field_Gradient: 'GGA NMR Electric Field Gradient'>, <CalcType.GGA_NMR_Nuclear_Shielding: 'GGA NMR Nuclear Shielding'>, <CalcType.GGA_Static: 'GGA Static'>, <CalcType.GGA_NSCF_Uniform: 'GGA NSCF Uniform'>, <CalcType.GGA_Static: 'GGA Static'>, <CalcType.GGA_NSCF_Line: 'GGA NSCF Line'>, <CalcType.GGA_NSCF_Line: 'GGA NSCF Line'>, <CalcType.GGA_NSCF_Line: 'GGA NSCF Line'>, <CalcType.GGA_NSCF_Line: 'GGA NSCF Line'>])"
      ]
     },
     "execution_count": 219,
     "metadata": {},
     "output_type": "execute_result"
    }
   ],
   "source": [
    "task_types"
   ]
  },
  {
   "cell_type": "code",
   "execution_count": 220,
   "metadata": {},
   "outputs": [
    {
     "name": "stderr",
     "output_type": "stream",
     "text": [
      "c:\\Users\\jaina\\Anaconda3\\envs\\my_pymatgen\\lib\\site-packages\\mp_api\\client.py:139: builtins.UserWarning: Problem loading MPContribs client: [<twisted.python.failure.Failure OpenSSL.SSL.Error: [('SSL routines', 'tls_process_server_certificate', 'certificate verify failed')]>]\n",
      "Retrieving SummaryDoc documents: 100%|██████████| 343/343 [00:00<?, ?it/s]\n"
     ]
    }
   ],
   "source": [
    "from mp_api import MPRester\n",
    "\n",
    "with MPRester(akash_api_key) as mpr:\n",
    "    docs = mpr.summary.search(chemsys=\"Si-O\", \n",
    "                              fields=[\"material_id\", \"band_gap\"])\n",
    "    mpid_bgap_dict = {doc.material_id: doc.band_gap for doc in docs}"
   ]
  },
  {
   "cell_type": "code",
   "execution_count": 221,
   "metadata": {},
   "outputs": [
    {
     "data": {
      "text/plain": [
       "{MPID(mp-638035): 0.0,\n",
       " MPID(mp-560920): 5.613300000000001,\n",
       " MPID(mp-560064): 5.7691,\n",
       " MPID(mp-685105): 0.3892,\n",
       " MPID(mp-615993): 5.5573999999999995,\n",
       " MPID(mp-600071): 5.4719,\n",
       " MPID(mp-667383): 5.5162,\n",
       " MPID(mp-1249637): 5.7075,\n",
       " MPID(mp-16964): 5.6779,\n",
       " MPID(mp-556088): 5.8696,\n",
       " MPID(mp-1221354): 0.030199999999999783,\n",
       " MPID(mp-12787): 5.6273,\n",
       " MPID(mp-600098): 5.565899999999999,\n",
       " MPID(mp-600050): 5.8144,\n",
       " MPID(mp-555823): 1.3676000000000001,\n",
       " MPID(mp-600032): 5.7155000000000005,\n",
       " MPID(mp-557024): 5.6822,\n",
       " MPID(mp-600045): 5.4237,\n",
       " MPID(mp-7087): 5.3645000000000005,\n",
       " MPID(mp-557653): 4.0886000000000005,\n",
       " MPID(mp-1398433): 0.0,\n",
       " MPID(mp-559872): 5.610600000000001,\n",
       " MPID(mp-560203): 5.7301,\n",
       " MPID(mp-600057): 5.7215,\n",
       " MPID(mp-639705): 5.4988,\n",
       " MPID(mp-731864): 0.008799999999999919,\n",
       " MPID(mp-639480): 5.6231,\n",
       " MPID(mp-546546): 5.5604000000000005,\n",
       " MPID(mp-555394): 4.0687,\n",
       " MPID(mp-7000): 5.7194,\n",
       " MPID(mp-556985): 5.6098,\n",
       " MPID(mp-638900): 0.10310000000000041,\n",
       " MPID(mp-557873): 5.6607,\n",
       " MPID(mp-556469): 5.7427,\n",
       " MPID(mp-554498): 0.48930000000000007,\n",
       " MPID(mp-561181): 5.6107,\n",
       " MPID(mp-559605): 3.6950000000000003,\n",
       " MPID(mp-600068): 5.6335,\n",
       " MPID(mp-554151): 5.725199999999999,\n",
       " MPID(mp-1256614): 5.7551,\n",
       " MPID(mp-1249332): 5.6718,\n",
       " MPID(mp-555483): 4.721699999999999,\n",
       " MPID(mp-556027): 2.4692,\n",
       " MPID(mp-1244945): 5.0143,\n",
       " MPID(mp-639512): 5.6163,\n",
       " MPID(mp-600039): 5.5869,\n",
       " MPID(mp-554573): 5.7899,\n",
       " MPID(mp-1199998): 5.5867,\n",
       " MPID(mp-600080): 5.4798,\n",
       " MPID(mp-639695): 5.7854,\n",
       " MPID(mp-558374): 6.2197,\n",
       " MPID(mp-600002): 5.4577,\n",
       " MPID(mp-600049): 5.646800000000001,\n",
       " MPID(mp-600096): 6.0892,\n",
       " MPID(mp-556961): 5.736,\n",
       " MPID(mp-600053): 5.522,\n",
       " MPID(mp-10948): 5.4849,\n",
       " MPID(mp-600024): 5.75,\n",
       " MPID(mp-638033): 0.23160000000000025,\n",
       " MPID(mp-667368): 5.5885,\n",
       " MPID(mp-553881): 3.602,\n",
       " MPID(mp-600060): 5.683199999999999,\n",
       " MPID(mp-683952): 1.3132000000000001,\n",
       " MPID(mp-560754): 1.36,\n",
       " MPID(mp-1179195): 0.9888999999999999,\n",
       " MPID(mp-639478): 5.5631,\n",
       " MPID(mp-639741): 5.6594999999999995,\n",
       " MPID(mp-8602): 5.687799999999999,\n",
       " MPID(mp-557881): 5.6379,\n",
       " MPID(mp-545719): 4.8294,\n",
       " MPID(mp-556662): 5.565300000000001,\n",
       " MPID(mp-1204057): 5.5443999999999996,\n",
       " MPID(mp-12350): 6.1937999999999995,\n",
       " MPID(mp-556963): 5.9648,\n",
       " MPID(mp-557118): 5.4995,\n",
       " MPID(mp-557837): 5.6449,\n",
       " MPID(mp-560954): 4.559,\n",
       " MPID(mp-532105): 5.559,\n",
       " MPID(mp-559273): 5.6598,\n",
       " MPID(mp-556257): 3.6123,\n",
       " MPID(mp-559962): 5.6777,\n",
       " MPID(mp-1244965): 1.6018,\n",
       " MPID(mp-556454): 5.5651,\n",
       " MPID(mp-556880): 5.0612,\n",
       " MPID(mp-1219421): 0.0706,\n",
       " MPID(mp-560809): 5.4481,\n",
       " MPID(mp-1248957): 5.7498000000000005,\n",
       " MPID(mp-6930): 5.6705000000000005,\n",
       " MPID(mp-555891): 5.4968,\n",
       " MPID(mp-560527): 5.3907,\n",
       " MPID(mp-554946): 5.8629999999999995,\n",
       " MPID(mp-560836): 4.9428,\n",
       " MPID(mp-554267): 5.6122000000000005,\n",
       " MPID(mp-1244968): 2.9048,\n",
       " MPID(mp-639682): 5.6453,\n",
       " MPID(mp-557264): 5.4421,\n",
       " MPID(mp-600061): 5.6122,\n",
       " MPID(mp-600001): 5.491,\n",
       " MPID(mp-1365799): 5.793,\n",
       " MPID(mp-600022): 5.5985,\n",
       " MPID(mp-985590): 5.515899999999999,\n",
       " MPID(mp-555411): 1.6065,\n",
       " MPID(mp-639558): 5.645099999999999,\n",
       " MPID(mp-7648): 5.7192,\n",
       " MPID(mp-1204026): 4.1957,\n",
       " MPID(mp-1258196): 5.6518,\n",
       " MPID(mp-663422): 4.3608,\n",
       " MPID(mp-561301): 1.9962,\n",
       " MPID(mp-560131): 5.685499999999999,\n",
       " MPID(mp-600070): 5.8420000000000005,\n",
       " MPID(mp-600052): 5.4991,\n",
       " MPID(mp-556588): 4.0078000000000005,\n",
       " MPID(mp-7029): 5.7943999999999996,\n",
       " MPID(mp-733790): 5.593,\n",
       " MPID(mp-560155): 5.7966,\n",
       " MPID(mp-557004): 5.6262,\n",
       " MPID(mp-600007): 5.6068999999999996,\n",
       " MPID(mp-685184): 0.0,\n",
       " MPID(mp-600005): 5.4398,\n",
       " MPID(mp-680204): 5.5710999999999995,\n",
       " MPID(mp-558200): 5.317699999999999,\n",
       " MPID(mp-558733): 5.2427,\n",
       " MPID(mp-561090): 5.7539,\n",
       " MPID(mp-1071820): 4.6966,\n",
       " MPID(mp-558891): 5.6471,\n",
       " MPID(mp-1179447): 5.6304,\n",
       " MPID(mp-6922): 5.5311,\n",
       " MPID(mp-673168): 3.3979,\n",
       " MPID(mp-18280): 5.6998999999999995,\n",
       " MPID(mp-559389): 4.7204,\n",
       " MPID(mp-557814): 1.0636,\n",
       " MPID(mp-556132): 4.396800000000001,\n",
       " MPID(mp-1201738): 5.5295000000000005,\n",
       " MPID(mp-559860): 4.5099,\n",
       " MPID(mp-562490): 5.774,\n",
       " MPID(mp-600055): 5.726100000000001,\n",
       " MPID(mp-11684): 5.5458,\n",
       " MPID(mp-638038): 0.0,\n",
       " MPID(mp-557771): 2.3054,\n",
       " MPID(mp-639506): 5.6572,\n",
       " MPID(mp-555147): 5.3545,\n",
       " MPID(mp-1179508): 6.088100000000001,\n",
       " MPID(mp-600067): 5.74,\n",
       " MPID(mp-558301): 5.3527000000000005,\n",
       " MPID(mp-555497): 4.3073999999999995,\n",
       " MPID(mp-546794): 5.8552,\n",
       " MPID(mp-560998): 5.5774,\n",
       " MPID(mp-667373): 5.5745,\n",
       " MPID(mp-1200292): 5.7088,\n",
       " MPID(mp-600006): 5.4101,\n",
       " MPID(mp-560152): 5.5347,\n",
       " MPID(mp-1173536): 0.08350000000000002,\n",
       " MPID(mp-554397): 0.9409999999999998,\n",
       " MPID(mp-639511): 5.6703,\n",
       " MPID(mp-10064): 1.7395999999999994,\n",
       " MPID(mp-600109): 5.5931999999999995,\n",
       " MPID(mp-559347): 5.6325,\n",
       " MPID(mp-1194828): 0.09050000000000002,\n",
       " MPID(mp-8059): 5.5887,\n",
       " MPID(mp-554682): 5.7065,\n",
       " MPID(mp-572283): 4.9688,\n",
       " MPID(mp-600051): 5.5706,\n",
       " MPID(mp-1250639): 5.6677,\n",
       " MPID(mp-556564): 0.30200000000000005,\n",
       " MPID(mp-1245026): 1.9047,\n",
       " MPID(mp-556319): 5.2035,\n",
       " MPID(mp-555521): 5.5805,\n",
       " MPID(mp-556537): 4.5413,\n",
       " MPID(mp-555211): 5.6207,\n",
       " MPID(mp-1256499): 5.931,\n",
       " MPID(mp-558203): 5.8698,\n",
       " MPID(mp-560336): 5.5874,\n",
       " MPID(mp-555676): 4.9651000000000005,\n",
       " MPID(mp-530546): 5.5611999999999995,\n",
       " MPID(mp-553993): 5.6413,\n",
       " MPID(mp-600084): 5.549,\n",
       " MPID(mp-600029): 5.4247000000000005,\n",
       " MPID(mp-32881): 0.18850000000000033,\n",
       " MPID(mp-600085): 5.7642,\n",
       " MPID(mp-680222): 5.5951,\n",
       " MPID(mp-1203655): 5.4771,\n",
       " MPID(mp-554665): 4.8029,\n",
       " MPID(mp-653763): 5.3421,\n",
       " MPID(mp-556553): 4.9023,\n",
       " MPID(mp-556068): 6.290299999999999,\n",
       " MPID(mp-644923): 5.72,\n",
       " MPID(mp-683970): 5.4379,\n",
       " MPID(mp-32761): 0.0,\n",
       " MPID(mp-557465): 5.544899999999999,\n",
       " MPID(mp-530027): 2.1050999999999997,\n",
       " MPID(mp-9258): 4.0091,\n",
       " MPID(mp-558947): 5.6495,\n",
       " MPID(mp-560708): 5.6266,\n",
       " MPID(mp-667377): 5.3943,\n",
       " MPID(mp-600003): 5.4596,\n",
       " MPID(mp-558326): 5.587,\n",
       " MPID(mp-558569): 5.6415999999999995,\n",
       " MPID(mp-6947): 5.168199999999999,\n",
       " MPID(mp-640917): 0.6553999999999998,\n",
       " MPID(mp-556812): 4.5562000000000005,\n",
       " MPID(mp-1249969): 5.6645,\n",
       " MPID(mp-17909): 5.6535,\n",
       " MPID(mp-556788): 4.7965,\n",
       " MPID(mp-555251): 5.6355,\n",
       " MPID(mp-554755): 5.6152,\n",
       " MPID(mp-600038): 5.4989,\n",
       " MPID(mp-1179488): 0.14189999999999992,\n",
       " MPID(mp-556654): 5.6055,\n",
       " MPID(mp-600063): 5.6966,\n",
       " MPID(mp-559550): 5.6097,\n",
       " MPID(mp-555165): 5.531499999999999,\n",
       " MPID(mp-1250755): 0.20499999999999996,\n",
       " MPID(mp-555355): 1.1266,\n",
       " MPID(mp-557933): 5.5245,\n",
       " MPID(mp-1188220): 5.4517999999999995,\n",
       " MPID(mp-556591): 5.873200000000001,\n",
       " MPID(mp-556376): 2.7482,\n",
       " MPID(mp-667371): 5.6417,\n",
       " MPID(mp-639734): 5.5098,\n",
       " MPID(mp-639724): 5.6202000000000005,\n",
       " MPID(mp-638049): 0.9581,\n",
       " MPID(mp-1179651): 3.4528,\n",
       " MPID(mp-600065): 5.3276,\n",
       " MPID(mp-1257168): 5.5917,\n",
       " MPID(mp-560941): 5.7844999999999995,\n",
       " MPID(mp-600059): 5.7102,\n",
       " MPID(mp-1250261): 5.6701,\n",
       " MPID(mp-972808): 5.5882,\n",
       " MPID(mp-600018): 5.4453,\n",
       " MPID(mp-558025): 5.6213,\n",
       " MPID(mp-555544): 4.3252999999999995,\n",
       " MPID(mp-1179275): 0.0,\n",
       " MPID(mp-1201887): 5.5322,\n",
       " MPID(mp-557894): 5.718299999999999,\n",
       " MPID(mp-559360): 5.6782,\n",
       " MPID(mp-1208867): 0.0,\n",
       " MPID(mp-1353259): 5.5609,\n",
       " MPID(mp-600033): 5.6213,\n",
       " MPID(mp-555960): 5.3346,\n",
       " MPID(mp-600027): 5.522600000000001,\n",
       " MPID(mp-600026): 5.1530000000000005,\n",
       " MPID(mp-15078): 5.6044,\n",
       " MPID(mp-639733): 5.6305,\n",
       " MPID(mp-600015): 5.6292,\n",
       " MPID(mp-561488): 2.7816,\n",
       " MPID(mp-558931): 4.5368,\n",
       " MPID(mp-553945): 5.6059,\n",
       " MPID(mp-555700): 5.484,\n",
       " MPID(mp-8352): 5.3649000000000004,\n",
       " MPID(mp-545488): 0.3344999999999998,\n",
       " MPID(mp-558564): 5.6030999999999995,\n",
       " MPID(mp-673849): 1.123,\n",
       " MPID(mp-1250551): 5.6892,\n",
       " MPID(mp-600083): 5.5983,\n",
       " MPID(mp-600037): 5.4426,\n",
       " MPID(mp-600016): 5.6503,\n",
       " MPID(mp-557591): 5.6246,\n",
       " MPID(mp-600023): 5.488,\n",
       " MPID(mp-667448): 5.482200000000001,\n",
       " MPID(mp-555556): 5.598999999999999,\n",
       " MPID(mp-600076): 5.957999999999999,\n",
       " MPID(mp-600004): 5.4296,\n",
       " MPID(mp-32667): 5.3845,\n",
       " MPID(mp-557930): 6.2919,\n",
       " MPID(mp-640556): 5.4721,\n",
       " MPID(mp-600091): 5.685499999999999,\n",
       " MPID(mp-560973): 5.4387,\n",
       " MPID(mp-559928): 5.4895,\n",
       " MPID(mp-1249090): 5.7758,\n",
       " MPID(mp-555740): 5.5865,\n",
       " MPID(mp-600078): 5.6143,\n",
       " MPID(mp-600028): 5.5863,\n",
       " MPID(mp-554089): 5.660399999999999,\n",
       " MPID(mp-559091): 5.4496,\n",
       " MPID(mp-600031): 5.8332999999999995,\n",
       " MPID(mp-559313): 5.5709,\n",
       " MPID(mp-557134): 5.4646,\n",
       " MPID(mp-555235): 5.6842999999999995,\n",
       " MPID(mp-600054): 5.6447,\n",
       " MPID(mp-662706): 5.4606,\n",
       " MPID(mp-557076): 4.0358,\n",
       " MPID(mp-985570): 5.599,\n",
       " MPID(mp-557244): 5.1733,\n",
       " MPID(mp-600014): 5.7274,\n",
       " MPID(mp-6945): 5.503699999999999,\n",
       " MPID(mp-1063118): 0.0,\n",
       " MPID(mp-600072): 5.6478,\n",
       " MPID(mp-560826): 5.4292,\n",
       " MPID(mp-554543): 5.4402,\n",
       " MPID(mp-557017): 2.5295,\n",
       " MPID(mp-7905): 4.7646999999999995,\n",
       " MPID(mp-558366): 1.1351,\n",
       " MPID(mp-1268079): 5.6649,\n",
       " MPID(mp-559829): 6.106,\n",
       " MPID(mp-683947): 5.2101999999999995,\n",
       " MPID(mp-604717): 5.1678,\n",
       " MPID(mp-1021503): 4.528499999999999,\n",
       " MPID(mp-558598): 0.0,\n",
       " MPID(mp-34150): 0.9218999999999999,\n",
       " MPID(mp-556464): 3.9577,\n",
       " MPID(mp-683953): 1.4904000000000002,\n",
       " MPID(mp-561351): 5.5568,\n",
       " MPID(mp-556262): 5.72,\n",
       " MPID(mp-558351): 5.626799999999999,\n",
       " MPID(mp-600000): 5.4115,\n",
       " MPID(mp-639463): 5.3927000000000005,\n",
       " MPID(mp-554243): 5.627,\n",
       " MPID(mp-1179454): 5.5301,\n",
       " MPID(mp-557723): 3.6466,\n",
       " MPID(mp-1391176): 0.1484,\n",
       " MPID(mp-1200685): 5.6843,\n",
       " MPID(mp-32895): 5.8529,\n",
       " MPID(mp-669426): 5.537999999999999,\n",
       " MPID(mp-1265115): 5.506200000000001,\n",
       " MPID(mp-556882): 5.4389,\n",
       " MPID(mp-556994): 5.3836,\n",
       " MPID(mp-1199711): 0.09720000000000018,\n",
       " MPID(mp-936187): 0.0,\n",
       " MPID(mp-600111): 5.5173000000000005,\n",
       " MPID(mp-1195265): 5.7794,\n",
       " MPID(mp-1205213): 5.3649,\n",
       " MPID(mp-561291): 5.241,\n",
       " MPID(mp-1179529): 5.455299999999999,\n",
       " MPID(mp-554175): 5.7494,\n",
       " MPID(mp-556218): 5.6156999999999995,\n",
       " MPID(mp-862998): 2.6763,\n",
       " MPID(mp-667376): 5.3896999999999995,\n",
       " MPID(mp-639748): 6.1775,\n",
       " MPID(mp-10851): 5.5428,\n",
       " MPID(mp-556044): 0.0,\n",
       " MPID(mp-555791): 5.7383999999999995,\n",
       " MPID(mp-17279): 5.7092,\n",
       " MPID(mp-651707): 5.7241,\n",
       " MPID(mp-559740): 5.912800000000001,\n",
       " MPID(mp-646895): 5.7207,\n",
       " MPID(mp-542814): 5.7162,\n",
       " MPID(mp-554258): 5.6031,\n",
       " MPID(mp-1204070): 4.4735,\n",
       " MPID(mp-557194): 0.0,\n",
       " MPID(mp-558115): 5.6222,\n",
       " MPID(mp-557211): 5.5604,\n",
       " MPID(mp-32566): 0.0,\n",
       " MPID(mp-600041): 5.465199999999999}"
      ]
     },
     "execution_count": 221,
     "metadata": {},
     "output_type": "execute_result"
    }
   ],
   "source": [
    "mpid_bgap_dict"
   ]
  },
  {
   "cell_type": "code",
   "execution_count": null,
   "metadata": {},
   "outputs": [],
   "source": []
  }
 ],
 "metadata": {
  "kernelspec": {
   "display_name": "Python 3.10.4 ('my_pymatgen')",
   "language": "python",
   "name": "python3"
  },
  "language_info": {
   "codemirror_mode": {
    "name": "ipython",
    "version": 3
   },
   "file_extension": ".py",
   "mimetype": "text/x-python",
   "name": "python",
   "nbconvert_exporter": "python",
   "pygments_lexer": "ipython3",
   "version": "3.10.4"
  },
  "orig_nbformat": 4,
  "vscode": {
   "interpreter": {
    "hash": "6f2dcad2d69db7a038c2688dbf5739db1de71ea2d805dad131fcf86546f4737e"
   }
  }
 },
 "nbformat": 4,
 "nbformat_minor": 2
}
