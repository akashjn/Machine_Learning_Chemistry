{
 "cells": [
  {
   "cell_type": "code",
   "execution_count": 1,
   "metadata": {},
   "outputs": [],
   "source": [
    "import pandas as pd\n",
    "import numpy as np\n",
    "import seaborn as sns\n",
    "import rdkit.Chem as Chem\n",
    "import datamol as dm"
   ]
  },
  {
   "cell_type": "markdown",
   "metadata": {},
   "source": [
    "# Load data"
   ]
  },
  {
   "cell_type": "code",
   "execution_count": 2,
   "metadata": {},
   "outputs": [
    {
     "data": {
      "text/html": [
       "<div>\n",
       "<style scoped>\n",
       "    .dataframe tbody tr th:only-of-type {\n",
       "        vertical-align: middle;\n",
       "    }\n",
       "\n",
       "    .dataframe tbody tr th {\n",
       "        vertical-align: top;\n",
       "    }\n",
       "\n",
       "    .dataframe thead th {\n",
       "        text-align: right;\n",
       "    }\n",
       "</style>\n",
       "<table border=\"1\" class=\"dataframe\">\n",
       "  <thead>\n",
       "    <tr style=\"text-align: right;\">\n",
       "      <th></th>\n",
       "      <th>SMILES</th>\n",
       "      <th>Ered(V)</th>\n",
       "    </tr>\n",
       "  </thead>\n",
       "  <tbody>\n",
       "    <tr>\n",
       "      <th>0</th>\n",
       "      <td>Cc1c2c(cc3nsnc13)N(C)CCN2CCN(C)C</td>\n",
       "      <td>1.27</td>\n",
       "    </tr>\n",
       "    <tr>\n",
       "      <th>1</th>\n",
       "      <td>CCN1CCN(CCOC)c2c1cc1nsnc1c2C</td>\n",
       "      <td>1.27</td>\n",
       "    </tr>\n",
       "    <tr>\n",
       "      <th>2</th>\n",
       "      <td>CCNc1c2c(cc3nsnc13)N(C)CCN2C(C)C</td>\n",
       "      <td>1.24</td>\n",
       "    </tr>\n",
       "    <tr>\n",
       "      <th>3</th>\n",
       "      <td>CCCN1CCN(CC)c2cc3nsnc3c(NCC)c21</td>\n",
       "      <td>1.22</td>\n",
       "    </tr>\n",
       "    <tr>\n",
       "      <th>4</th>\n",
       "      <td>CCNc1c2c(cc3nsnc13)N(CC)CCN2C(C)C</td>\n",
       "      <td>1.20</td>\n",
       "    </tr>\n",
       "  </tbody>\n",
       "</table>\n",
       "</div>"
      ],
      "text/plain": [
       "                              SMILES  Ered(V)\n",
       "0   Cc1c2c(cc3nsnc13)N(C)CCN2CCN(C)C     1.27\n",
       "1       CCN1CCN(CCOC)c2c1cc1nsnc1c2C     1.27\n",
       "2   CCNc1c2c(cc3nsnc13)N(C)CCN2C(C)C     1.24\n",
       "3    CCCN1CCN(CC)c2cc3nsnc3c(NCC)c21     1.22\n",
       "4  CCNc1c2c(cc3nsnc13)N(CC)CCN2C(C)C     1.20"
      ]
     },
     "execution_count": 2,
     "metadata": {},
     "output_type": "execute_result"
    }
   ],
   "source": [
    "ERed_data=pd.read_csv(r\"../Data/Reduction_potential_213BzNSN.csv\")\n",
    "ERed_data.head()"
   ]
  },
  {
   "cell_type": "code",
   "execution_count": 3,
   "metadata": {},
   "outputs": [
    {
     "data": {
      "text/plain": [
       "Index(['SMILES', 'Ered(V)'], dtype='object')"
      ]
     },
     "execution_count": 3,
     "metadata": {},
     "output_type": "execute_result"
    }
   ],
   "source": [
    "ERed_data.columns"
   ]
  },
  {
   "cell_type": "markdown",
   "metadata": {},
   "source": [
    "# Data exploration"
   ]
  },
  {
   "cell_type": "code",
   "execution_count": 4,
   "metadata": {},
   "outputs": [],
   "source": [
    "import matplotlib.pyplot as plt"
   ]
  },
  {
   "cell_type": "code",
   "execution_count": 5,
   "metadata": {},
   "outputs": [
    {
     "data": {
      "text/html": [
       "<div>\n",
       "<style scoped>\n",
       "    .dataframe tbody tr th:only-of-type {\n",
       "        vertical-align: middle;\n",
       "    }\n",
       "\n",
       "    .dataframe tbody tr th {\n",
       "        vertical-align: top;\n",
       "    }\n",
       "\n",
       "    .dataframe thead th {\n",
       "        text-align: right;\n",
       "    }\n",
       "</style>\n",
       "<table border=\"1\" class=\"dataframe\">\n",
       "  <thead>\n",
       "    <tr style=\"text-align: right;\">\n",
       "      <th></th>\n",
       "      <th>Ered(V)</th>\n",
       "    </tr>\n",
       "  </thead>\n",
       "  <tbody>\n",
       "    <tr>\n",
       "      <th>count</th>\n",
       "      <td>1569.000000</td>\n",
       "    </tr>\n",
       "    <tr>\n",
       "      <th>mean</th>\n",
       "      <td>1.402199</td>\n",
       "    </tr>\n",
       "    <tr>\n",
       "      <th>std</th>\n",
       "      <td>0.171699</td>\n",
       "    </tr>\n",
       "    <tr>\n",
       "      <th>min</th>\n",
       "      <td>0.780000</td>\n",
       "    </tr>\n",
       "    <tr>\n",
       "      <th>25%</th>\n",
       "      <td>1.290000</td>\n",
       "    </tr>\n",
       "    <tr>\n",
       "      <th>50%</th>\n",
       "      <td>1.430000</td>\n",
       "    </tr>\n",
       "    <tr>\n",
       "      <th>75%</th>\n",
       "      <td>1.520000</td>\n",
       "    </tr>\n",
       "    <tr>\n",
       "      <th>max</th>\n",
       "      <td>1.870000</td>\n",
       "    </tr>\n",
       "  </tbody>\n",
       "</table>\n",
       "</div>"
      ],
      "text/plain": [
       "           Ered(V)\n",
       "count  1569.000000\n",
       "mean      1.402199\n",
       "std       0.171699\n",
       "min       0.780000\n",
       "25%       1.290000\n",
       "50%       1.430000\n",
       "75%       1.520000\n",
       "max       1.870000"
      ]
     },
     "execution_count": 5,
     "metadata": {},
     "output_type": "execute_result"
    }
   ],
   "source": [
    "ERed_data.describe()"
   ]
  },
  {
   "cell_type": "markdown",
   "metadata": {},
   "source": [
    "# Test Hypothesis\n",
    "# Is ERed data normally distributed? "
   ]
  },
  {
   "cell_type": "code",
   "execution_count": 7,
   "metadata": {},
   "outputs": [
    {
     "name": "stdout",
     "output_type": "stream",
     "text": [
      "Reduction potential (ERed) mean=1.40, median=1.43, mode=0    1.46\n",
      "dtype: float64\n"
     ]
    }
   ],
   "source": [
    "print(f\"Reduction potential (ERed) mean={ERed_data['Ered(V)'].mean():0.2f}, median={ERed_data['Ered(V)'].median():0.2f}, mode={ERed_data['Ered(V)'].mode()}\")"
   ]
  },
  {
   "cell_type": "markdown",
   "metadata": {},
   "source": [
    "*Characteristics of normal distribution*\n",
    "- the mean, median, and mode all represent the center of the distribution \n",
    "- bell shape distribution\n",
    "- almost 68%, 95% and 99.7% data falls within 1, 2, and 3 sigma, respectively"
   ]
  },
  {
   "cell_type": "code",
   "execution_count": 8,
   "metadata": {},
   "outputs": [
    {
     "data": {
      "text/plain": [
       "<matplotlib.axes._subplots.AxesSubplot at 0x2caa0deaf48>"
      ]
     },
     "execution_count": 8,
     "metadata": {},
     "output_type": "execute_result"
    },
    {
     "data": {
      "image/png": "[encoded data removed]",
      "text/plain": [
       "<Figure size 432x288 with 1 Axes>"
      ]
     },
     "metadata": {
      "needs_background": "light"
     },
     "output_type": "display_data"
    }
   ],
   "source": [
    "sns.histplot(ERed_data['Ered(V)'])"
   ]
  },
  {
   "cell_type": "code",
   "execution_count": 9,
   "metadata": {},
   "outputs": [
    {
     "data": {
      "text/plain": [
       "count    1569.000000\n",
       "mean        1.402199\n",
       "std         0.171699\n",
       "min         0.780000\n",
       "25%         1.290000\n",
       "50%         1.430000\n",
       "75%         1.520000\n",
       "max         1.870000\n",
       "Name: Ered(V), dtype: float64"
      ]
     },
     "execution_count": 9,
     "metadata": {},
     "output_type": "execute_result"
    }
   ],
   "source": [
    "ERed_data['Ered(V)'].describe()"
   ]
  },
  {
   "cell_type": "markdown",
   "metadata": {},
   "source": [
    "**From the above plot we can see that ERed data is not normally distributed**"
   ]
  },
  {
   "cell_type": "markdown",
   "metadata": {},
   "source": [
    "- *Linear regression assumes that errors or residuals follow a normal distribution*\n",
    "- *Some ML algo like LDA and QDA inherently assume normally distributed data*"
   ]
  },
  {
   "cell_type": "markdown",
   "metadata": {},
   "source": [
    "Quantile-Quantile Plot"
   ]
  },
  {
   "cell_type": "code",
   "execution_count": 11,
   "metadata": {},
   "outputs": [],
   "source": [
    "import pylab\n",
    "import scipy.stats as stats"
   ]
  },
  {
   "cell_type": "code",
   "execution_count": 12,
   "metadata": {},
   "outputs": [
    {
     "data": {
      "image/png": "[encoded data removed]",
      "text/plain": [
       "<Figure size 432x288 with 1 Axes>"
      ]
     },
     "metadata": {
      "needs_background": "light"
     },
     "output_type": "display_data"
    }
   ],
   "source": [
    "\"\"\"Calculate quantiles for a probability plot, and optionally show the plot.\n",
    "\n",
    "Generates a probability plot of sample data against the quantiles of a specified theoretical distribution (the normal distribution by default). probplot optionally calculates a best-fit line for the data and plots the results using Matplotlib or a given plot function.\"\"\"\n",
    "stats.probplot(ERed_data['Ered(V)'],dist=\"norm\",plot=pylab)\n",
    "pylab.show()"
   ]
  },
  {
   "cell_type": "markdown",
   "metadata": {},
   "source": [
    "*If our data comes from a normal distribution, we should see all the points sitting on the straight line. The above plot suggests that ERed data is not normally distributed*"
   ]
  },
  {
   "cell_type": "markdown",
   "metadata": {},
   "source": [
    "**Box plot**"
   ]
  },
  {
   "cell_type": "code",
   "execution_count": 13,
   "metadata": {},
   "outputs": [
    {
     "data": {
      "text/plain": [
       "<matplotlib.axes._subplots.AxesSubplot at 0x2caa571eb88>"
      ]
     },
     "execution_count": 13,
     "metadata": {},
     "output_type": "execute_result"
    },
    {
     "data": {
      "image/png": "[encoded data removed]",
      "text/plain": [
       "<Figure size 432x288 with 1 Axes>"
      ]
     },
     "metadata": {
      "needs_background": "light"
     },
     "output_type": "display_data"
    }
   ],
   "source": [
    "sns.boxplot(x=ERed_data['Ered(V)'])"
   ]
  },
  {
   "cell_type": "code",
   "execution_count": 14,
   "metadata": {},
   "outputs": [
    {
     "name": "stdout",
     "output_type": "stream",
     "text": [
      "Reduction potential (ERed) mean=1.40, median=1.43, mode=0    1.46\n",
      "dtype: float64\n"
     ]
    }
   ],
   "source": [
    "# If your variable has a normal distribution, we should see the mean and median in the center.\n",
    "print(f\"Reduction potential (ERed) mean={ERed_data['Ered(V)'].mean():0.2f}, median={ERed_data['Ered(V)'].median():0.2f}, mode={ERed_data['Ered(V)'].mode()}\")"
   ]
  },
  {
   "cell_type": "markdown",
   "metadata": {},
   "source": [
    "The boxplot, histogram and QQ plots suggests that ERed data is not normally distributed"
   ]
  },
  {
   "cell_type": "markdown",
   "metadata": {},
   "source": [
    "# Statistical Tests of Normality"
   ]
  },
  {
   "cell_type": "markdown",
   "metadata": {},
   "source": [
    "**Shapiro-Wilk Test**"
   ]
  },
  {
   "cell_type": "code",
   "execution_count": 15,
   "metadata": {},
   "outputs": [
    {
     "name": "stdout",
     "output_type": "stream",
     "text": [
      "stat=0.980 and p=0.000\n",
      "we reject the null hypothesis i.e. we assume the distribution of our variable is not normal/gaussian\n"
     ]
    }
   ],
   "source": [
    "from scipy.stats import shapiro\n",
    "\n",
    "#get stats\n",
    "data=ERed_data['Ered(V)']\n",
    "stat,p = shapiro(data)\n",
    "\n",
    "print(f\"stat={stat:0.3f} and p={p:0.3f}\")\n",
    "if p > 0.05:\n",
    "    print(\"we fail to reject the null hypothesis i.e. we assume the distribution of our variable is normal/gaussian\")\n",
    "else:\n",
    "    print(\"we reject the null hypothesis i.e. we assume the distribution of our variable is not normal/gaussian\")"
   ]
  },
  {
   "cell_type": "markdown",
   "metadata": {},
   "source": [
    "**D’Agostino’s K-squared test**"
   ]
  },
  {
   "cell_type": "markdown",
   "metadata": {},
   "source": [
    "This test checks normality of data based on skewness and kurtosis\n",
    "\n",
    "Skewness is a measure of symmetry.\n",
    "\n",
    "Kurtosis is a measure of whether the data are heavy-tailed or light-tailed relative to a normal distribution."
   ]
  },
  {
   "cell_type": "code",
   "execution_count": 16,
   "metadata": {},
   "outputs": [
    {
     "name": "stdout",
     "output_type": "stream",
     "text": [
      "stat=56.140 and p=0.000\n",
      "we reject the null hypothesis i.e. we assume the distribution of our variable is not normal/gaussian\n"
     ]
    }
   ],
   "source": [
    "from scipy.stats import normaltest\n",
    "stat,p = normaltest(data)\n",
    "\n",
    "\n",
    "print(f\"stat={stat:0.3f} and p={p:0.3f}\")\n",
    "if p > 0.05:\n",
    "    print(\"we fail to reject the null hypothesis i.e. we assume the distribution of our variable is normal/gaussian\")\n",
    "else:\n",
    "    print(\"we reject the null hypothesis i.e. we assume the distribution of our variable is not normal/gaussian\")"
   ]
  },
  {
   "cell_type": "markdown",
   "metadata": {},
   "source": [
    " Anderson-Darling Normality Test"
   ]
  },
  {
   "cell_type": "code",
   "execution_count": 17,
   "metadata": {},
   "outputs": [
    {
     "name": "stdout",
     "output_type": "stream",
     "text": [
      "stat=12.321\n",
      "Probably not normal: 0.575 critical value at 15.0 level of significance\n",
      "Probably not normal: 0.654 critical value at 10.0 level of significance\n",
      "Probably not normal: 0.785 critical value at 5.0 level of significance\n",
      "Probably not normal: 0.916 critical value at 2.5 level of significance\n",
      "Probably not normal: 1.089 critical value at 1.0 level of significance\n"
     ]
    }
   ],
   "source": [
    "from scipy.stats import anderson\n",
    "result=anderson(data)\n",
    "print(f\"stat={result.statistic:0.3f}\")\n",
    "for i in range(len(result.critical_values)):\n",
    "    sig_lev,crit_val = result.significance_level[i],result.critical_values[i]\n",
    "    if result.statistic < crit_val:\n",
    "        print(f\"Probably normal: {crit_val} critical value at {sig_lev} level of significance\")\n",
    "    else:\n",
    "        print(f\"Probably not normal: {crit_val} critical value at {sig_lev} level of significance\")"
   ]
  },
  {
   "cell_type": "markdown",
   "metadata": {},
   "source": [
    "**Jarque–Bera test for Normality**\n",
    "\n",
    "*this test only works for a large enough number of data samples (>2000)*"
   ]
  },
  {
   "cell_type": "code",
   "execution_count": 18,
   "metadata": {},
   "outputs": [
    {
     "name": "stdout",
     "output_type": "stream",
     "text": [
      "stat=61.519 and p=0.000\n",
      "we reject the null hypothesis i.e. we assume the distribution of our variable is not normal/gaussian\n"
     ]
    }
   ],
   "source": [
    "# The Jarque-Bera test tests whether the sample data has the skewness and kurtosis matching a normal distribution\n",
    "from scipy.stats import jarque_bera\n",
    "\n",
    "stat,p = jarque_bera(data)\n",
    "\n",
    "\n",
    "print(f\"stat={stat:0.3f} and p={p:0.3f}\")\n",
    "if p > 0.05:\n",
    "    print(\"we fail to reject the null hypothesis i.e. we assume the distribution of our variable is normal/gaussian\")\n",
    "else:\n",
    "    print(\"we reject the null hypothesis i.e. we assume the distribution of our variable is not normal/gaussian\")\n"
   ]
  }
 ],
 "metadata": {
  "kernelspec": {
   "display_name": "Python 3.7.11 ('myenv')",
   "language": "python",
   "name": "python3"
  },
  "language_info": {
   "codemirror_mode": {
    "name": "ipython",
    "version": 3
   },
   "file_extension": ".py",
   "mimetype": "text/x-python",
   "name": "python",
   "nbconvert_exporter": "python",
   "pygments_lexer": "ipython3",
   "version": "3.7.11"
  },
  "orig_nbformat": 4,
  "vscode": {
   "interpreter": {
    "hash": "00a5131b94e1651b60ec524aa15e233bc471fcc5f68e93d7def1029cb997c5c0"
   }
  }
 },
 "nbformat": 4,
 "nbformat_minor": 2
}
